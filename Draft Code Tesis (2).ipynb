{
 "cells": [
  {
   "cell_type": "code",
   "execution_count": 152,
   "id": "ab6ef241",
   "metadata": {},
   "outputs": [],
   "source": [
    "from sklearn.metrics import mean_squared_error, mean_absolute_error\n",
    "from statsmodels.graphics.tsaplots import plot_acf, plot_pacf\n",
    "from statsmodels.tsa.seasonal import seasonal_decompose, STL\n",
    "from statsmodels.stats.diagnostic import acorr_ljungbox\n",
    "from statsmodels.tsa.statespace.sarimax import SARIMAX\n",
    "from statsmodels.tsa.arima_process import ArmaProcess\n",
    "from statsmodels.graphics.gofplots import qqplot\n",
    "from statsmodels.tsa.stattools import adfuller\n",
    "from tqdm import tqdm_notebook\n",
    "from itertools import product\n",
    "from typing import Union\n",
    "from matplotlib import pyplot as plt\n",
    "from matplotlib import dates as mpl_dates\n",
    "\n",
    "import matplotlib.pyplot as plt\n",
    "import statsmodels.api as sm\n",
    "import pandas as pd\n",
    "import numpy as np\n",
    "import datetime\n",
    "\n",
    "#import gspread as gs\n",
    "\n",
    "import warnings\n",
    "warnings.filterwarnings('ignore')\n",
    "\n",
    "%matplotlib inline\n"
   ]
  },
  {
   "cell_type": "code",
   "execution_count": 160,
   "id": "a8c09dbb",
   "metadata": {
    "scrolled": true
   },
   "outputs": [
    {
     "data": {
      "text/html": [
       "<div>\n",
       "<style scoped>\n",
       "    .dataframe tbody tr th:only-of-type {\n",
       "        vertical-align: middle;\n",
       "    }\n",
       "\n",
       "    .dataframe tbody tr th {\n",
       "        vertical-align: top;\n",
       "    }\n",
       "\n",
       "    .dataframe thead th {\n",
       "        text-align: right;\n",
       "    }\n",
       "</style>\n",
       "<table border=\"1\" class=\"dataframe\">\n",
       "  <thead>\n",
       "    <tr style=\"text-align: right;\">\n",
       "      <th></th>\n",
       "      <th>Q</th>\n",
       "      <th>Date</th>\n",
       "      <th>EV</th>\n",
       "      <th>TotEq</th>\n",
       "      <th>Cash</th>\n",
       "      <th>PrefEq</th>\n",
       "      <th>Debt</th>\n",
       "      <th>PX_LAST</th>\n",
       "      <th>MktCap</th>\n",
       "      <th>ShOu</th>\n",
       "      <th>EBITDA</th>\n",
       "      <th>EBITDA12m</th>\n",
       "    </tr>\n",
       "  </thead>\n",
       "  <tbody>\n",
       "    <tr>\n",
       "      <th>0</th>\n",
       "      <td>3Q2007</td>\n",
       "      <td>2007-09-28</td>\n",
       "      <td>13311.8000</td>\n",
       "      <td>6139.200</td>\n",
       "      <td>1078.800</td>\n",
       "      <td>1857.300</td>\n",
       "      <td>4133.800</td>\n",
       "      <td>31.40</td>\n",
       "      <td>6294.8932</td>\n",
       "      <td>267.5000</td>\n",
       "      <td>318.400</td>\n",
       "      <td>1603.111</td>\n",
       "    </tr>\n",
       "    <tr>\n",
       "      <th>1</th>\n",
       "      <td>4Q2007</td>\n",
       "      <td>2007-10-01</td>\n",
       "      <td>13311.8000</td>\n",
       "      <td>6139.200</td>\n",
       "      <td>1078.800</td>\n",
       "      <td>1857.300</td>\n",
       "      <td>4133.800</td>\n",
       "      <td>31.77</td>\n",
       "      <td>6369.0686</td>\n",
       "      <td>267.5000</td>\n",
       "      <td>318.400</td>\n",
       "      <td>1603.111</td>\n",
       "    </tr>\n",
       "    <tr>\n",
       "      <th>2</th>\n",
       "      <td>4Q2007</td>\n",
       "      <td>2007-10-02</td>\n",
       "      <td>13311.8000</td>\n",
       "      <td>6139.200</td>\n",
       "      <td>1078.800</td>\n",
       "      <td>1857.300</td>\n",
       "      <td>4133.800</td>\n",
       "      <td>31.67</td>\n",
       "      <td>6349.0212</td>\n",
       "      <td>267.5000</td>\n",
       "      <td>318.400</td>\n",
       "      <td>1603.111</td>\n",
       "    </tr>\n",
       "    <tr>\n",
       "      <th>3</th>\n",
       "      <td>4Q2007</td>\n",
       "      <td>2007-10-03</td>\n",
       "      <td>13311.8000</td>\n",
       "      <td>6139.200</td>\n",
       "      <td>1078.800</td>\n",
       "      <td>1857.300</td>\n",
       "      <td>4133.800</td>\n",
       "      <td>31.46</td>\n",
       "      <td>6306.9216</td>\n",
       "      <td>267.5000</td>\n",
       "      <td>318.400</td>\n",
       "      <td>1603.111</td>\n",
       "    </tr>\n",
       "    <tr>\n",
       "      <th>4</th>\n",
       "      <td>4Q2007</td>\n",
       "      <td>2007-10-04</td>\n",
       "      <td>13311.8000</td>\n",
       "      <td>6139.200</td>\n",
       "      <td>1078.800</td>\n",
       "      <td>1857.300</td>\n",
       "      <td>4133.800</td>\n",
       "      <td>31.27</td>\n",
       "      <td>6268.8315</td>\n",
       "      <td>267.5000</td>\n",
       "      <td>318.400</td>\n",
       "      <td>1603.111</td>\n",
       "    </tr>\n",
       "    <tr>\n",
       "      <th>...</th>\n",
       "      <td>...</td>\n",
       "      <td>...</td>\n",
       "      <td>...</td>\n",
       "      <td>...</td>\n",
       "      <td>...</td>\n",
       "      <td>...</td>\n",
       "      <td>...</td>\n",
       "      <td>...</td>\n",
       "      <td>...</td>\n",
       "      <td>...</td>\n",
       "      <td>...</td>\n",
       "      <td>...</td>\n",
       "    </tr>\n",
       "    <tr>\n",
       "      <th>3770</th>\n",
       "      <td>3Q2022</td>\n",
       "      <td>2022-09-26</td>\n",
       "      <td>8448.1067</td>\n",
       "      <td>13704.000</td>\n",
       "      <td>2059.000</td>\n",
       "      <td>1928.000</td>\n",
       "      <td>1344.000</td>\n",
       "      <td>26.75</td>\n",
       "      <td>5362.6887</td>\n",
       "      <td>200.4740</td>\n",
       "      <td>1224.000</td>\n",
       "      <td>5817.824</td>\n",
       "    </tr>\n",
       "    <tr>\n",
       "      <th>3771</th>\n",
       "      <td>3Q2022</td>\n",
       "      <td>2022-09-27</td>\n",
       "      <td>8448.1067</td>\n",
       "      <td>13704.000</td>\n",
       "      <td>2059.000</td>\n",
       "      <td>1928.000</td>\n",
       "      <td>1344.000</td>\n",
       "      <td>27.35</td>\n",
       "      <td>5482.9733</td>\n",
       "      <td>200.4740</td>\n",
       "      <td>1224.000</td>\n",
       "      <td>5817.824</td>\n",
       "    </tr>\n",
       "    <tr>\n",
       "      <th>3772</th>\n",
       "      <td>3Q2022</td>\n",
       "      <td>2022-09-28</td>\n",
       "      <td>8448.1067</td>\n",
       "      <td>13704.000</td>\n",
       "      <td>2059.000</td>\n",
       "      <td>1928.000</td>\n",
       "      <td>1344.000</td>\n",
       "      <td>27.47</td>\n",
       "      <td>5507.0302</td>\n",
       "      <td>200.4740</td>\n",
       "      <td>1224.000</td>\n",
       "      <td>5817.824</td>\n",
       "    </tr>\n",
       "    <tr>\n",
       "      <th>3773</th>\n",
       "      <td>3Q2022</td>\n",
       "      <td>2022-09-29</td>\n",
       "      <td>8448.1067</td>\n",
       "      <td>13704.000</td>\n",
       "      <td>2059.000</td>\n",
       "      <td>1928.000</td>\n",
       "      <td>1344.000</td>\n",
       "      <td>27.23</td>\n",
       "      <td>5458.9164</td>\n",
       "      <td>200.4740</td>\n",
       "      <td>1224.000</td>\n",
       "      <td>5817.824</td>\n",
       "    </tr>\n",
       "    <tr>\n",
       "      <th>3774</th>\n",
       "      <td>3Q2022</td>\n",
       "      <td>2022-09-30</td>\n",
       "      <td>54230.9249</td>\n",
       "      <td>13779.424</td>\n",
       "      <td>2742.589</td>\n",
       "      <td>1879.176</td>\n",
       "      <td>1325.665</td>\n",
       "      <td>27.39</td>\n",
       "      <td>5490.9923</td>\n",
       "      <td>1963.0768</td>\n",
       "      <td>679.239</td>\n",
       "      <td>4616.483</td>\n",
       "    </tr>\n",
       "  </tbody>\n",
       "</table>\n",
       "<p>3775 rows × 12 columns</p>\n",
       "</div>"
      ],
      "text/plain": [
       "           Q       Date          EV      TotEq      Cash    PrefEq      Debt  \\\n",
       "0     3Q2007 2007-09-28  13311.8000   6139.200  1078.800  1857.300  4133.800   \n",
       "1     4Q2007 2007-10-01  13311.8000   6139.200  1078.800  1857.300  4133.800   \n",
       "2     4Q2007 2007-10-02  13311.8000   6139.200  1078.800  1857.300  4133.800   \n",
       "3     4Q2007 2007-10-03  13311.8000   6139.200  1078.800  1857.300  4133.800   \n",
       "4     4Q2007 2007-10-04  13311.8000   6139.200  1078.800  1857.300  4133.800   \n",
       "...      ...        ...         ...        ...       ...       ...       ...   \n",
       "3770  3Q2022 2022-09-26   8448.1067  13704.000  2059.000  1928.000  1344.000   \n",
       "3771  3Q2022 2022-09-27   8448.1067  13704.000  2059.000  1928.000  1344.000   \n",
       "3772  3Q2022 2022-09-28   8448.1067  13704.000  2059.000  1928.000  1344.000   \n",
       "3773  3Q2022 2022-09-29   8448.1067  13704.000  2059.000  1928.000  1344.000   \n",
       "3774  3Q2022 2022-09-30  54230.9249  13779.424  2742.589  1879.176  1325.665   \n",
       "\n",
       "      PX_LAST     MktCap       ShOu    EBITDA  EBITDA12m  \n",
       "0       31.40  6294.8932   267.5000   318.400   1603.111  \n",
       "1       31.77  6369.0686   267.5000   318.400   1603.111  \n",
       "2       31.67  6349.0212   267.5000   318.400   1603.111  \n",
       "3       31.46  6306.9216   267.5000   318.400   1603.111  \n",
       "4       31.27  6268.8315   267.5000   318.400   1603.111  \n",
       "...       ...        ...        ...       ...        ...  \n",
       "3770    26.75  5362.6887   200.4740  1224.000   5817.824  \n",
       "3771    27.35  5482.9733   200.4740  1224.000   5817.824  \n",
       "3772    27.47  5507.0302   200.4740  1224.000   5817.824  \n",
       "3773    27.23  5458.9164   200.4740  1224.000   5817.824  \n",
       "3774    27.39  5490.9923  1963.0768   679.239   4616.483  \n",
       "\n",
       "[3775 rows x 12 columns]"
      ]
     },
     "execution_count": 160,
     "metadata": {},
     "output_type": "execute_result"
    }
   ],
   "source": [
    "df=pd.read_excel(r'C:\\Users\\bantenuc\\OneDrive - Ternium\\Escritorio\\BRUNO\\Tesis\\PDB.xlsx', sheet_name=0) #sheet_name=0 brings first sheet, =1 brings 2nd sheet\n",
    "df = df.dropna() #is it ok to drop NaN values\n",
    "df=df.reset_index()\n",
    "df = df.drop('index', axis=1)\n",
    "#df=df.set_index('Date')\n",
    "df"
   ]
  },
  {
   "cell_type": "code",
   "execution_count": 156,
   "id": "551db787",
   "metadata": {},
   "outputs": [],
   "source": [
    "#Choose the rows that satisfy a condition and create a new df.\n",
    "#quarter_df = df.loc[df['Q'] =='4Q2007']\n",
    "#quarter_df"
   ]
  },
  {
   "cell_type": "code",
   "execution_count": 161,
   "id": "7f7e7823",
   "metadata": {},
   "outputs": [
    {
     "data": {
      "text/plain": [
       "Q                    object\n",
       "Date         datetime64[ns]\n",
       "EV                  float64\n",
       "TotEq               float64\n",
       "Cash                float64\n",
       "PrefEq              float64\n",
       "Debt                float64\n",
       "PX_LAST             float64\n",
       "MktCap              float64\n",
       "ShOu                float64\n",
       "EBITDA              float64\n",
       "EBITDA12m           float64\n",
       "dtype: object"
      ]
     },
     "execution_count": 161,
     "metadata": {},
     "output_type": "execute_result"
    }
   ],
   "source": [
    "#Date commands\n",
    "df['Date'] = pd.to_datetime(df.Date) #convert the date string into date object\n",
    "#df.Date.dt.day_name() -> brings the name of the dayweek\n",
    "df.dtypes"
   ]
  },
  {
   "cell_type": "code",
   "execution_count": 82,
   "id": "b43b8996",
   "metadata": {},
   "outputs": [],
   "source": [
    "dates = ['31-03-2000','30-06-2000','30-09-2000','31-12-2000',\n",
    "        '31-03-2001','30-06-2001','30-09-2001','31-12-2001',\n",
    "        '31-03-2002','30-06-2002','30-09-2002','31-12-2002',\n",
    "        '31-03-2003','30-06-2003','30-09-2003','31-12-2003',\n",
    "        '31-03-2004','30-06-2004','30-09-2004','31-12-2004',\n",
    "        '31-03-2005','30-06-2005','30-09-2005','31-12-2005',\n",
    "        '31-03-2006','30-06-2006','30-09-2006','31-12-2006']"
   ]
  },
  {
   "cell_type": "code",
   "execution_count": 146,
   "id": "180e1aac",
   "metadata": {},
   "outputs": [
    {
     "data": {
      "text/plain": [
       "26.737023337748393"
      ]
     },
     "execution_count": 146,
     "metadata": {},
     "output_type": "execute_result"
    }
   ],
   "source": [
    "#Mean of a column\n",
    "\n",
    "#df.PX_LAST.mean()"
   ]
  },
  {
   "cell_type": "code",
   "execution_count": 162,
   "id": "e82451f4",
   "metadata": {},
   "outputs": [
    {
     "data": {
      "image/png": "[encoded data removed]",
      "text/plain": [
       "<Figure size 432x288 with 1 Axes>"
      ]
     },
     "metadata": {
      "needs_background": "light"
     },
     "output_type": "display_data"
    }
   ],
   "source": [
    "# Plot the time series\n",
    "fig, ax = plt.subplots()\n",
    "\n",
    "ax.plot(df.Date,df['PX_LAST'])\n",
    "ax.set_xlabel('Date')\n",
    "ax.set_ylabel('Price')\n",
    "\n",
    "\n",
    "fig.autofmt_xdate()\n",
    "plt.tight_layout()"
   ]
  },
  {
   "cell_type": "code",
   "execution_count": 163,
   "id": "668df828",
   "metadata": {},
   "outputs": [
    {
     "name": "stdout",
     "output_type": "stream",
     "text": [
      "ADF Statistic: -2.8868230058348776\n",
      "p-value: 0.046901899904165066\n"
     ]
    }
   ],
   "source": [
    "#Check for stationarity - ADF is not a large negative number and p-value is greater than 0.05\n",
    "target = df['PX_LAST']\n",
    "ADF_result = adfuller(target)\n",
    "print(f'ADF Statistic: {ADF_result[0]}') \n",
    "print(f'p-value: {ADF_result[1]}')"
   ]
  },
  {
   "cell_type": "code",
   "execution_count": 181,
   "id": "1c5a8ee7",
   "metadata": {},
   "outputs": [
    {
     "name": "stdout",
     "output_type": "stream",
     "text": [
      "ADF Statistic: -13.644769626501713\n",
      "p-value: 1.6275128454061742e-25\n"
     ]
    }
   ],
   "source": [
    "#Take first difference and check for stationarity\n",
    "\n",
    "df['PXdiff'] = target.diff()\n",
    "\n",
    "ad_fuller_result = adfuller(target_diff[1:])\n",
    "\n",
    "print(f'ADF Statistic: {ad_fuller_result[0]}')\n",
    "print(f'p-value: {ad_fuller_result[1]}')"
   ]
  },
  {
   "cell_type": "code",
   "execution_count": 183,
   "id": "4b5427f5",
   "metadata": {
    "scrolled": true
   },
   "outputs": [
    {
     "data": {
      "image/png": "[encoded data removed]",
      "text/plain": [
       "<Figure size 432x288 with 1 Axes>"
      ]
     },
     "metadata": {
      "needs_background": "light"
     },
     "output_type": "display_data"
    }
   ],
   "source": [
    "#Plot differenced series\n",
    "fig, ax = plt.subplots()\n",
    "\n",
    "ax.plot(df.Date,df.PXdiff)\n",
    "ax.set_xlabel('Date')\n",
    "ax.set_ylabel('Price diff')\n",
    "\n",
    "\n",
    "fig.autofmt_xdate()\n",
    "plt.tight_layout()"
   ]
  },
  {
   "cell_type": "code",
   "execution_count": 182,
   "id": "cab4e857",
   "metadata": {},
   "outputs": [
    {
     "data": {
      "text/html": [
       "<div>\n",
       "<style scoped>\n",
       "    .dataframe tbody tr th:only-of-type {\n",
       "        vertical-align: middle;\n",
       "    }\n",
       "\n",
       "    .dataframe tbody tr th {\n",
       "        vertical-align: top;\n",
       "    }\n",
       "\n",
       "    .dataframe thead th {\n",
       "        text-align: right;\n",
       "    }\n",
       "</style>\n",
       "<table border=\"1\" class=\"dataframe\">\n",
       "  <thead>\n",
       "    <tr style=\"text-align: right;\">\n",
       "      <th></th>\n",
       "      <th>Q</th>\n",
       "      <th>Date</th>\n",
       "      <th>EV</th>\n",
       "      <th>TotEq</th>\n",
       "      <th>Cash</th>\n",
       "      <th>PrefEq</th>\n",
       "      <th>Debt</th>\n",
       "      <th>PX_LAST</th>\n",
       "      <th>MktCap</th>\n",
       "      <th>ShOu</th>\n",
       "      <th>EBITDA</th>\n",
       "      <th>EBITDA12m</th>\n",
       "      <th>PXdiff</th>\n",
       "    </tr>\n",
       "  </thead>\n",
       "  <tbody>\n",
       "    <tr>\n",
       "      <th>0</th>\n",
       "      <td>3Q2007</td>\n",
       "      <td>2007-09-28</td>\n",
       "      <td>13311.8</td>\n",
       "      <td>6139.2</td>\n",
       "      <td>1078.8</td>\n",
       "      <td>1857.3</td>\n",
       "      <td>4133.8</td>\n",
       "      <td>31.40</td>\n",
       "      <td>6294.8932</td>\n",
       "      <td>267.5</td>\n",
       "      <td>318.4</td>\n",
       "      <td>1603.111</td>\n",
       "      <td>NaN</td>\n",
       "    </tr>\n",
       "    <tr>\n",
       "      <th>1</th>\n",
       "      <td>4Q2007</td>\n",
       "      <td>2007-10-01</td>\n",
       "      <td>13311.8</td>\n",
       "      <td>6139.2</td>\n",
       "      <td>1078.8</td>\n",
       "      <td>1857.3</td>\n",
       "      <td>4133.8</td>\n",
       "      <td>31.77</td>\n",
       "      <td>6369.0686</td>\n",
       "      <td>267.5</td>\n",
       "      <td>318.4</td>\n",
       "      <td>1603.111</td>\n",
       "      <td>0.37</td>\n",
       "    </tr>\n",
       "    <tr>\n",
       "      <th>2</th>\n",
       "      <td>4Q2007</td>\n",
       "      <td>2007-10-02</td>\n",
       "      <td>13311.8</td>\n",
       "      <td>6139.2</td>\n",
       "      <td>1078.8</td>\n",
       "      <td>1857.3</td>\n",
       "      <td>4133.8</td>\n",
       "      <td>31.67</td>\n",
       "      <td>6349.0212</td>\n",
       "      <td>267.5</td>\n",
       "      <td>318.4</td>\n",
       "      <td>1603.111</td>\n",
       "      <td>-0.10</td>\n",
       "    </tr>\n",
       "    <tr>\n",
       "      <th>3</th>\n",
       "      <td>4Q2007</td>\n",
       "      <td>2007-10-03</td>\n",
       "      <td>13311.8</td>\n",
       "      <td>6139.2</td>\n",
       "      <td>1078.8</td>\n",
       "      <td>1857.3</td>\n",
       "      <td>4133.8</td>\n",
       "      <td>31.46</td>\n",
       "      <td>6306.9216</td>\n",
       "      <td>267.5</td>\n",
       "      <td>318.4</td>\n",
       "      <td>1603.111</td>\n",
       "      <td>-0.21</td>\n",
       "    </tr>\n",
       "    <tr>\n",
       "      <th>4</th>\n",
       "      <td>4Q2007</td>\n",
       "      <td>2007-10-04</td>\n",
       "      <td>13311.8</td>\n",
       "      <td>6139.2</td>\n",
       "      <td>1078.8</td>\n",
       "      <td>1857.3</td>\n",
       "      <td>4133.8</td>\n",
       "      <td>31.27</td>\n",
       "      <td>6268.8315</td>\n",
       "      <td>267.5</td>\n",
       "      <td>318.4</td>\n",
       "      <td>1603.111</td>\n",
       "      <td>-0.19</td>\n",
       "    </tr>\n",
       "  </tbody>\n",
       "</table>\n",
       "</div>"
      ],
      "text/plain": [
       "        Q       Date       EV   TotEq    Cash  PrefEq    Debt  PX_LAST  \\\n",
       "0  3Q2007 2007-09-28  13311.8  6139.2  1078.8  1857.3  4133.8    31.40   \n",
       "1  4Q2007 2007-10-01  13311.8  6139.2  1078.8  1857.3  4133.8    31.77   \n",
       "2  4Q2007 2007-10-02  13311.8  6139.2  1078.8  1857.3  4133.8    31.67   \n",
       "3  4Q2007 2007-10-03  13311.8  6139.2  1078.8  1857.3  4133.8    31.46   \n",
       "4  4Q2007 2007-10-04  13311.8  6139.2  1078.8  1857.3  4133.8    31.27   \n",
       "\n",
       "      MktCap   ShOu  EBITDA  EBITDA12m  PXdiff  \n",
       "0  6294.8932  267.5   318.4   1603.111     NaN  \n",
       "1  6369.0686  267.5   318.4   1603.111    0.37  \n",
       "2  6349.0212  267.5   318.4   1603.111   -0.10  \n",
       "3  6306.9216  267.5   318.4   1603.111   -0.21  \n",
       "4  6268.8315  267.5   318.4   1603.111   -0.19  "
      ]
     },
     "execution_count": 182,
     "metadata": {},
     "output_type": "execute_result"
    }
   ],
   "source": [
    "df.head()"
   ]
  },
  {
   "cell_type": "code",
   "execution_count": 224,
   "id": "cb02b765",
   "metadata": {},
   "outputs": [
    {
     "data": {
      "image/png": "[encoded data removed]",
      "text/plain": [
       "<Figure size 432x288 with 1 Axes>"
      ]
     },
     "metadata": {
      "needs_background": "light"
     },
     "output_type": "display_data"
    }
   ],
   "source": [
    "#Plot ACF for differenced series.\n",
    "\n",
    "from statsmodels.graphics.tsaplots import plot_acf\n",
    "plot_acf(df.PXdiff, lags=30); \n",
    "plt.tight_layout() #If there is autocorrelation, means that is not an MA process"
   ]
  },
  {
   "cell_type": "code",
   "execution_count": 188,
   "id": "e38b8606",
   "metadata": {},
   "outputs": [
    {
     "name": "stdout",
     "output_type": "stream",
     "text": [
      "3397\n",
      "378\n"
     ]
    }
   ],
   "source": [
    "df_diff = pd.DataFrame(df.PXdiff)\n",
    "\n",
    "train = df_diff[:int(0.9*len(df_diff))]\n",
    "test = df_diff[int(0.9*len(df_diff)):]\n",
    "\n",
    "print(len(train))\n",
    "print(len(test))"
   ]
  },
  {
   "cell_type": "code",
   "execution_count": 189,
   "id": "440d8e69",
   "metadata": {},
   "outputs": [
    {
     "data": {
      "text/plain": [
       "<matplotlib.patches.Polygon at 0x15d92f38d60>"
      ]
     },
     "execution_count": 189,
     "metadata": {},
     "output_type": "execute_result"
    },
    {
     "data": {
      "image/png": "[encoded data removed]",
      "text/plain": [
       "<Figure size 432x288 with 2 Axes>"
      ]
     },
     "metadata": {
      "needs_background": "light"
     },
     "output_type": "display_data"
    }
   ],
   "source": [
    "#Graph and highlight the test set\n",
    "\n",
    "fig, (ax1, ax2) = plt.subplots(nrows=2, ncols=1, sharex=True)\n",
    "\n",
    "ax1.plot(df['PX_LAST'])\n",
    "ax1.set_xlabel('Time')\n",
    "ax1.set_ylabel('Tx Px')\n",
    "ax1.axvspan(len(train), len(train)+len(test), color='#808080', alpha=0.2)\n",
    "\n",
    "ax2.plot(df_diff)\n",
    "ax2.set_xlabel('Time')\n",
    "ax2.set_ylabel('Px diff')\n",
    "ax2.axvspan(len(train), len(train)+len(test), color='#808080', alpha=0.2)"
   ]
  },
  {
   "cell_type": "code",
   "execution_count": 222,
   "id": "39296d15",
   "metadata": {},
   "outputs": [],
   "source": [
    "# def the models. Mean - Last Price - MA.\n",
    "from statsmodels.tsa.statespace.sarimax import SARIMAX\n",
    "\n",
    "def rolling_forecast(df: pd.DataFrame, train_len: int, horizon: int, window: int, method: str) -> list:\n",
    "    \n",
    "    total_len = train_len + horizon\n",
    "    \n",
    "    if method == 'mean':#NOT RUNNING\n",
    "        pred_mean = []\n",
    "        \n",
    "        for i in range(train_len, total_len, window):\n",
    "            mean = np.mean(df[:i].values)\n",
    "            pred_mean.extend(mean for _ in range(window))\n",
    "\n",
    "        return pred_mean\n",
    "\n",
    "    elif method == 'last':\n",
    "        pred_last_value = []\n",
    "        \n",
    "        for i in range(train_len, total_len, window):\n",
    "            last_value = df[:i].iloc[-1].values[0]\n",
    "            pred_last_value.extend(last_value for _ in range(window))\n",
    "            \n",
    "        return pred_last_value\n",
    "    \n",
    "    elif method == 'MA':\n",
    "        pred_MA = []\n",
    "        \n",
    "        for i in range(train_len, total_len, window):\n",
    "            model = SARIMAX(df[:i], order=(0,0,4))\n",
    "            res = model.fit(disp=False)\n",
    "            predictions = res.get_prediction(0, i + window - 1)\n",
    "            oos_pred = predictions.predicted_mean.iloc[-window:]\n",
    "            pred_MA.extend(oos_pred)\n",
    "            \n",
    "        return pred_MA"
   ]
  },
  {
   "cell_type": "code",
   "execution_count": 223,
   "id": "7e1fb821",
   "metadata": {
    "scrolled": true
   },
   "outputs": [
    {
     "data": {
      "text/html": [
       "<div>\n",
       "<style scoped>\n",
       "    .dataframe tbody tr th:only-of-type {\n",
       "        vertical-align: middle;\n",
       "    }\n",
       "\n",
       "    .dataframe tbody tr th {\n",
       "        vertical-align: top;\n",
       "    }\n",
       "\n",
       "    .dataframe thead th {\n",
       "        text-align: right;\n",
       "    }\n",
       "</style>\n",
       "<table border=\"1\" class=\"dataframe\">\n",
       "  <thead>\n",
       "    <tr style=\"text-align: right;\">\n",
       "      <th></th>\n",
       "      <th>PXdiff</th>\n",
       "      <th>pred_mean</th>\n",
       "      <th>pred_last_value</th>\n",
       "      <th>pred_MA</th>\n",
       "    </tr>\n",
       "  </thead>\n",
       "  <tbody>\n",
       "    <tr>\n",
       "      <th>3397</th>\n",
       "      <td>0.86</td>\n",
       "      <td>NaN</td>\n",
       "      <td>0.23</td>\n",
       "      <td>-0.056870</td>\n",
       "    </tr>\n",
       "    <tr>\n",
       "      <th>3398</th>\n",
       "      <td>-0.23</td>\n",
       "      <td>NaN</td>\n",
       "      <td>0.23</td>\n",
       "      <td>0.010215</td>\n",
       "    </tr>\n",
       "    <tr>\n",
       "      <th>3399</th>\n",
       "      <td>-0.30</td>\n",
       "      <td>NaN</td>\n",
       "      <td>-0.23</td>\n",
       "      <td>0.012398</td>\n",
       "    </tr>\n",
       "    <tr>\n",
       "      <th>3400</th>\n",
       "      <td>-0.48</td>\n",
       "      <td>NaN</td>\n",
       "      <td>-0.23</td>\n",
       "      <td>-0.044091</td>\n",
       "    </tr>\n",
       "    <tr>\n",
       "      <th>3401</th>\n",
       "      <td>-0.36</td>\n",
       "      <td>NaN</td>\n",
       "      <td>-0.48</td>\n",
       "      <td>-0.014871</td>\n",
       "    </tr>\n",
       "  </tbody>\n",
       "</table>\n",
       "</div>"
      ],
      "text/plain": [
       "      PXdiff  pred_mean  pred_last_value   pred_MA\n",
       "3397    0.86        NaN             0.23 -0.056870\n",
       "3398   -0.23        NaN             0.23  0.010215\n",
       "3399   -0.30        NaN            -0.23  0.012398\n",
       "3400   -0.48        NaN            -0.23 -0.044091\n",
       "3401   -0.36        NaN            -0.48 -0.014871"
      ]
     },
     "execution_count": 223,
     "metadata": {},
     "output_type": "execute_result"
    }
   ],
   "source": [
    "#Save the results. Check what happened with the mean value.\n",
    "pred_df = test.copy()\n",
    "\n",
    "TRAIN_LEN = len(train)\n",
    "HORIZON = len(test)\n",
    "WINDOW = 2\n",
    "\n",
    "pred_mean = rolling_forecast(df_diff, TRAIN_LEN, HORIZON, WINDOW, 'mean')\n",
    "pred_last_value = rolling_forecast(df_diff, TRAIN_LEN, HORIZON, WINDOW, 'last')\n",
    "pred_MA = rolling_forecast(df_diff, TRAIN_LEN, HORIZON, WINDOW, 'MA')\n",
    "\n",
    "pred_df['pred_mean'] = pred_mean\n",
    "pred_df['pred_last_value'] = pred_last_value\n",
    "pred_df['pred_MA'] = pred_MA\n",
    "\n",
    "pred_df.head()\n",
    "# Where is it calling PX_LAST to the differenced series. Why mean is not calculating? (Bc of NaN values on Dataset??)"
   ]
  },
  {
   "cell_type": "code",
   "execution_count": 199,
   "id": "7e3777f1",
   "metadata": {},
   "outputs": [
    {
     "data": {
      "text/html": [
       "<div>\n",
       "<style scoped>\n",
       "    .dataframe tbody tr th:only-of-type {\n",
       "        vertical-align: middle;\n",
       "    }\n",
       "\n",
       "    .dataframe tbody tr th {\n",
       "        vertical-align: top;\n",
       "    }\n",
       "\n",
       "    .dataframe thead th {\n",
       "        text-align: right;\n",
       "    }\n",
       "</style>\n",
       "<table border=\"1\" class=\"dataframe\">\n",
       "  <thead>\n",
       "    <tr style=\"text-align: right;\">\n",
       "      <th></th>\n",
       "      <th>PXdiff</th>\n",
       "      <th>pred_mean</th>\n",
       "      <th>pred_last_value</th>\n",
       "    </tr>\n",
       "  </thead>\n",
       "  <tbody>\n",
       "    <tr>\n",
       "      <th>3397</th>\n",
       "      <td>0.86</td>\n",
       "      <td>-0.008244</td>\n",
       "      <td>0.23</td>\n",
       "    </tr>\n",
       "    <tr>\n",
       "      <th>3398</th>\n",
       "      <td>-0.23</td>\n",
       "      <td>0.005188</td>\n",
       "      <td>0.23</td>\n",
       "    </tr>\n",
       "    <tr>\n",
       "      <th>3399</th>\n",
       "      <td>-0.30</td>\n",
       "      <td>0.016251</td>\n",
       "      <td>-0.23</td>\n",
       "    </tr>\n",
       "    <tr>\n",
       "      <th>3400</th>\n",
       "      <td>-0.48</td>\n",
       "      <td>-0.006130</td>\n",
       "      <td>-0.23</td>\n",
       "    </tr>\n",
       "    <tr>\n",
       "      <th>3401</th>\n",
       "      <td>-0.36</td>\n",
       "      <td>-0.016782</td>\n",
       "      <td>-0.48</td>\n",
       "    </tr>\n",
       "    <tr>\n",
       "      <th>...</th>\n",
       "      <td>...</td>\n",
       "      <td>...</td>\n",
       "      <td>...</td>\n",
       "    </tr>\n",
       "    <tr>\n",
       "      <th>3770</th>\n",
       "      <td>-1.13</td>\n",
       "      <td>0.002218</td>\n",
       "      <td>0.52</td>\n",
       "    </tr>\n",
       "    <tr>\n",
       "      <th>3771</th>\n",
       "      <td>0.60</td>\n",
       "      <td>-0.050527</td>\n",
       "      <td>-1.13</td>\n",
       "    </tr>\n",
       "    <tr>\n",
       "      <th>3772</th>\n",
       "      <td>0.12</td>\n",
       "      <td>-0.004230</td>\n",
       "      <td>-1.13</td>\n",
       "    </tr>\n",
       "    <tr>\n",
       "      <th>3773</th>\n",
       "      <td>-0.24</td>\n",
       "      <td>0.006179</td>\n",
       "      <td>0.12</td>\n",
       "    </tr>\n",
       "    <tr>\n",
       "      <th>3774</th>\n",
       "      <td>0.16</td>\n",
       "      <td>0.000327</td>\n",
       "      <td>0.12</td>\n",
       "    </tr>\n",
       "  </tbody>\n",
       "</table>\n",
       "<p>378 rows × 3 columns</p>\n",
       "</div>"
      ],
      "text/plain": [
       "      PXdiff  pred_mean  pred_last_value\n",
       "3397    0.86  -0.008244             0.23\n",
       "3398   -0.23   0.005188             0.23\n",
       "3399   -0.30   0.016251            -0.23\n",
       "3400   -0.48  -0.006130            -0.23\n",
       "3401   -0.36  -0.016782            -0.48\n",
       "...      ...        ...              ...\n",
       "3770   -1.13   0.002218             0.52\n",
       "3771    0.60  -0.050527            -1.13\n",
       "3772    0.12  -0.004230            -1.13\n",
       "3773   -0.24   0.006179             0.12\n",
       "3774    0.16   0.000327             0.12\n",
       "\n",
       "[378 rows x 3 columns]"
      ]
     },
     "execution_count": 199,
     "metadata": {},
     "output_type": "execute_result"
    }
   ],
   "source": [
    "pred_df"
   ]
  },
  {
   "cell_type": "code",
   "execution_count": 220,
   "id": "715557d6",
   "metadata": {
    "scrolled": true
   },
   "outputs": [
    {
     "data": {
      "image/png": "[encoded data removed]",
      "text/plain": [
       "<Figure size 432x288 with 1 Axes>"
      ]
     },
     "metadata": {
      "needs_background": "light"
     },
     "output_type": "display_data"
    }
   ],
   "source": [
    "# Plot all results. Don't know why other results are not showing up\n",
    "\n",
    "fig, ax = plt.subplots()\n",
    "\n",
    "ax.plot(df_diff['PXdiff'])\n",
    "ax.plot(pred_df['PXdiff'], 'b-', label='actual')\n",
    "ax.plot(pred_df['pred_mean'], 'g:', label='mean')\n",
    "ax.plot(pred_df['pred_last_value'], 'r-.', label='last')\n",
    "ax.plot(pred_df['pred_MA'], 'k--', label='MA(2)')\n",
    "\n",
    "ax.legend(loc=2)\n",
    "\n",
    "ax.set_xlabel('Time')\n",
    "ax.set_ylabel('PX_Last')\n",
    "\n",
    "ax.axvspan(len(train), len(train)+30, color='#808080', alpha=0.2)\n",
    "\n",
    "ax.set_xlim(len(train)-10, len(train)+30)\n",
    "\n",
    "\n",
    "\n",
    "fig.autofmt_xdate()\n",
    "plt.tight_layout()"
   ]
  },
  {
   "cell_type": "code",
   "execution_count": 221,
   "id": "34bc6aa3",
   "metadata": {},
   "outputs": [
    {
     "ename": "ValueError",
     "evalue": "Input contains NaN, infinity or a value too large for dtype('float64').",
     "output_type": "error",
     "traceback": [
      "\u001b[1;31m---------------------------------------------------------------------------\u001b[0m",
      "\u001b[1;31mValueError\u001b[0m                                Traceback (most recent call last)",
      "Input \u001b[1;32mIn [221]\u001b[0m, in \u001b[0;36m<cell line: 3>\u001b[1;34m()\u001b[0m\n\u001b[0;32m      1\u001b[0m \u001b[38;5;28;01mfrom\u001b[39;00m \u001b[38;5;21;01msklearn\u001b[39;00m\u001b[38;5;21;01m.\u001b[39;00m\u001b[38;5;21;01mmetrics\u001b[39;00m \u001b[38;5;28;01mimport\u001b[39;00m mean_squared_error\n\u001b[1;32m----> 3\u001b[0m mse_mean \u001b[38;5;241m=\u001b[39m \u001b[43mmean_squared_error\u001b[49m\u001b[43m(\u001b[49m\u001b[43mpred_df\u001b[49m\u001b[43m[\u001b[49m\u001b[38;5;124;43m'\u001b[39;49m\u001b[38;5;124;43mPXdiff\u001b[39;49m\u001b[38;5;124;43m'\u001b[39;49m\u001b[43m]\u001b[49m\u001b[43m,\u001b[49m\u001b[43m \u001b[49m\u001b[43mpred_df\u001b[49m\u001b[43m[\u001b[49m\u001b[38;5;124;43m'\u001b[39;49m\u001b[38;5;124;43mpred_mean\u001b[39;49m\u001b[38;5;124;43m'\u001b[39;49m\u001b[43m]\u001b[49m\u001b[43m)\u001b[49m\n\u001b[0;32m      4\u001b[0m mse_last \u001b[38;5;241m=\u001b[39m mean_squared_error(pred_df[\u001b[38;5;124m'\u001b[39m\u001b[38;5;124mPXdiff\u001b[39m\u001b[38;5;124m'\u001b[39m], pred_df[\u001b[38;5;124m'\u001b[39m\u001b[38;5;124mpred_last_value\u001b[39m\u001b[38;5;124m'\u001b[39m])\n\u001b[0;32m      5\u001b[0m mse_MA \u001b[38;5;241m=\u001b[39m mean_squared_error(pred_df[\u001b[38;5;124m'\u001b[39m\u001b[38;5;124mwidget_sales_diff\u001b[39m\u001b[38;5;124m'\u001b[39m], pred_df[\u001b[38;5;124m'\u001b[39m\u001b[38;5;124mpred_MA\u001b[39m\u001b[38;5;124m'\u001b[39m])\n",
      "File \u001b[1;32m~\\Anaconda3\\lib\\site-packages\\sklearn\\metrics\\_regression.py:438\u001b[0m, in \u001b[0;36mmean_squared_error\u001b[1;34m(y_true, y_pred, sample_weight, multioutput, squared)\u001b[0m\n\u001b[0;32m    378\u001b[0m \u001b[38;5;28;01mdef\u001b[39;00m \u001b[38;5;21mmean_squared_error\u001b[39m(\n\u001b[0;32m    379\u001b[0m     y_true, y_pred, \u001b[38;5;241m*\u001b[39m, sample_weight\u001b[38;5;241m=\u001b[39m\u001b[38;5;28;01mNone\u001b[39;00m, multioutput\u001b[38;5;241m=\u001b[39m\u001b[38;5;124m\"\u001b[39m\u001b[38;5;124muniform_average\u001b[39m\u001b[38;5;124m\"\u001b[39m, squared\u001b[38;5;241m=\u001b[39m\u001b[38;5;28;01mTrue\u001b[39;00m\n\u001b[0;32m    380\u001b[0m ):\n\u001b[0;32m    381\u001b[0m     \u001b[38;5;124;03m\"\"\"Mean squared error regression loss.\u001b[39;00m\n\u001b[0;32m    382\u001b[0m \n\u001b[0;32m    383\u001b[0m \u001b[38;5;124;03m    Read more in the :ref:`User Guide <mean_squared_error>`.\u001b[39;00m\n\u001b[1;32m   (...)\u001b[0m\n\u001b[0;32m    436\u001b[0m \u001b[38;5;124;03m    0.825...\u001b[39;00m\n\u001b[0;32m    437\u001b[0m \u001b[38;5;124;03m    \"\"\"\u001b[39;00m\n\u001b[1;32m--> 438\u001b[0m     y_type, y_true, y_pred, multioutput \u001b[38;5;241m=\u001b[39m \u001b[43m_check_reg_targets\u001b[49m\u001b[43m(\u001b[49m\n\u001b[0;32m    439\u001b[0m \u001b[43m        \u001b[49m\u001b[43my_true\u001b[49m\u001b[43m,\u001b[49m\u001b[43m \u001b[49m\u001b[43my_pred\u001b[49m\u001b[43m,\u001b[49m\u001b[43m \u001b[49m\u001b[43mmultioutput\u001b[49m\n\u001b[0;32m    440\u001b[0m \u001b[43m    \u001b[49m\u001b[43m)\u001b[49m\n\u001b[0;32m    441\u001b[0m     check_consistent_length(y_true, y_pred, sample_weight)\n\u001b[0;32m    442\u001b[0m     output_errors \u001b[38;5;241m=\u001b[39m np\u001b[38;5;241m.\u001b[39maverage((y_true \u001b[38;5;241m-\u001b[39m y_pred) \u001b[38;5;241m*\u001b[39m\u001b[38;5;241m*\u001b[39m \u001b[38;5;241m2\u001b[39m, axis\u001b[38;5;241m=\u001b[39m\u001b[38;5;241m0\u001b[39m, weights\u001b[38;5;241m=\u001b[39msample_weight)\n",
      "File \u001b[1;32m~\\Anaconda3\\lib\\site-packages\\sklearn\\metrics\\_regression.py:96\u001b[0m, in \u001b[0;36m_check_reg_targets\u001b[1;34m(y_true, y_pred, multioutput, dtype)\u001b[0m\n\u001b[0;32m     94\u001b[0m check_consistent_length(y_true, y_pred)\n\u001b[0;32m     95\u001b[0m y_true \u001b[38;5;241m=\u001b[39m check_array(y_true, ensure_2d\u001b[38;5;241m=\u001b[39m\u001b[38;5;28;01mFalse\u001b[39;00m, dtype\u001b[38;5;241m=\u001b[39mdtype)\n\u001b[1;32m---> 96\u001b[0m y_pred \u001b[38;5;241m=\u001b[39m \u001b[43mcheck_array\u001b[49m\u001b[43m(\u001b[49m\u001b[43my_pred\u001b[49m\u001b[43m,\u001b[49m\u001b[43m \u001b[49m\u001b[43mensure_2d\u001b[49m\u001b[38;5;241;43m=\u001b[39;49m\u001b[38;5;28;43;01mFalse\u001b[39;49;00m\u001b[43m,\u001b[49m\u001b[43m \u001b[49m\u001b[43mdtype\u001b[49m\u001b[38;5;241;43m=\u001b[39;49m\u001b[43mdtype\u001b[49m\u001b[43m)\u001b[49m\n\u001b[0;32m     98\u001b[0m \u001b[38;5;28;01mif\u001b[39;00m y_true\u001b[38;5;241m.\u001b[39mndim \u001b[38;5;241m==\u001b[39m \u001b[38;5;241m1\u001b[39m:\n\u001b[0;32m     99\u001b[0m     y_true \u001b[38;5;241m=\u001b[39m y_true\u001b[38;5;241m.\u001b[39mreshape((\u001b[38;5;241m-\u001b[39m\u001b[38;5;241m1\u001b[39m, \u001b[38;5;241m1\u001b[39m))\n",
      "File \u001b[1;32m~\\Anaconda3\\lib\\site-packages\\sklearn\\utils\\validation.py:800\u001b[0m, in \u001b[0;36mcheck_array\u001b[1;34m(array, accept_sparse, accept_large_sparse, dtype, order, copy, force_all_finite, ensure_2d, allow_nd, ensure_min_samples, ensure_min_features, estimator)\u001b[0m\n\u001b[0;32m    794\u001b[0m         \u001b[38;5;28;01mraise\u001b[39;00m \u001b[38;5;167;01mValueError\u001b[39;00m(\n\u001b[0;32m    795\u001b[0m             \u001b[38;5;124m\"\u001b[39m\u001b[38;5;124mFound array with dim \u001b[39m\u001b[38;5;132;01m%d\u001b[39;00m\u001b[38;5;124m. \u001b[39m\u001b[38;5;132;01m%s\u001b[39;00m\u001b[38;5;124m expected <= 2.\u001b[39m\u001b[38;5;124m\"\u001b[39m\n\u001b[0;32m    796\u001b[0m             \u001b[38;5;241m%\u001b[39m (array\u001b[38;5;241m.\u001b[39mndim, estimator_name)\n\u001b[0;32m    797\u001b[0m         )\n\u001b[0;32m    799\u001b[0m     \u001b[38;5;28;01mif\u001b[39;00m force_all_finite:\n\u001b[1;32m--> 800\u001b[0m         \u001b[43m_assert_all_finite\u001b[49m\u001b[43m(\u001b[49m\u001b[43marray\u001b[49m\u001b[43m,\u001b[49m\u001b[43m \u001b[49m\u001b[43mallow_nan\u001b[49m\u001b[38;5;241;43m=\u001b[39;49m\u001b[43mforce_all_finite\u001b[49m\u001b[43m \u001b[49m\u001b[38;5;241;43m==\u001b[39;49m\u001b[43m \u001b[49m\u001b[38;5;124;43m\"\u001b[39;49m\u001b[38;5;124;43mallow-nan\u001b[39;49m\u001b[38;5;124;43m\"\u001b[39;49m\u001b[43m)\u001b[49m\n\u001b[0;32m    802\u001b[0m \u001b[38;5;28;01mif\u001b[39;00m ensure_min_samples \u001b[38;5;241m>\u001b[39m \u001b[38;5;241m0\u001b[39m:\n\u001b[0;32m    803\u001b[0m     n_samples \u001b[38;5;241m=\u001b[39m _num_samples(array)\n",
      "File \u001b[1;32m~\\Anaconda3\\lib\\site-packages\\sklearn\\utils\\validation.py:114\u001b[0m, in \u001b[0;36m_assert_all_finite\u001b[1;34m(X, allow_nan, msg_dtype)\u001b[0m\n\u001b[0;32m    107\u001b[0m     \u001b[38;5;28;01mif\u001b[39;00m (\n\u001b[0;32m    108\u001b[0m         allow_nan\n\u001b[0;32m    109\u001b[0m         \u001b[38;5;129;01mand\u001b[39;00m np\u001b[38;5;241m.\u001b[39misinf(X)\u001b[38;5;241m.\u001b[39many()\n\u001b[0;32m    110\u001b[0m         \u001b[38;5;129;01mor\u001b[39;00m \u001b[38;5;129;01mnot\u001b[39;00m allow_nan\n\u001b[0;32m    111\u001b[0m         \u001b[38;5;129;01mand\u001b[39;00m \u001b[38;5;129;01mnot\u001b[39;00m np\u001b[38;5;241m.\u001b[39misfinite(X)\u001b[38;5;241m.\u001b[39mall()\n\u001b[0;32m    112\u001b[0m     ):\n\u001b[0;32m    113\u001b[0m         type_err \u001b[38;5;241m=\u001b[39m \u001b[38;5;124m\"\u001b[39m\u001b[38;5;124minfinity\u001b[39m\u001b[38;5;124m\"\u001b[39m \u001b[38;5;28;01mif\u001b[39;00m allow_nan \u001b[38;5;28;01melse\u001b[39;00m \u001b[38;5;124m\"\u001b[39m\u001b[38;5;124mNaN, infinity\u001b[39m\u001b[38;5;124m\"\u001b[39m\n\u001b[1;32m--> 114\u001b[0m         \u001b[38;5;28;01mraise\u001b[39;00m \u001b[38;5;167;01mValueError\u001b[39;00m(\n\u001b[0;32m    115\u001b[0m             msg_err\u001b[38;5;241m.\u001b[39mformat(\n\u001b[0;32m    116\u001b[0m                 type_err, msg_dtype \u001b[38;5;28;01mif\u001b[39;00m msg_dtype \u001b[38;5;129;01mis\u001b[39;00m \u001b[38;5;129;01mnot\u001b[39;00m \u001b[38;5;28;01mNone\u001b[39;00m \u001b[38;5;28;01melse\u001b[39;00m X\u001b[38;5;241m.\u001b[39mdtype\n\u001b[0;32m    117\u001b[0m             )\n\u001b[0;32m    118\u001b[0m         )\n\u001b[0;32m    119\u001b[0m \u001b[38;5;66;03m# for object dtype data, we only check for NaNs (GH-13254)\u001b[39;00m\n\u001b[0;32m    120\u001b[0m \u001b[38;5;28;01melif\u001b[39;00m X\u001b[38;5;241m.\u001b[39mdtype \u001b[38;5;241m==\u001b[39m np\u001b[38;5;241m.\u001b[39mdtype(\u001b[38;5;124m\"\u001b[39m\u001b[38;5;124mobject\u001b[39m\u001b[38;5;124m\"\u001b[39m) \u001b[38;5;129;01mand\u001b[39;00m \u001b[38;5;129;01mnot\u001b[39;00m allow_nan:\n",
      "\u001b[1;31mValueError\u001b[0m: Input contains NaN, infinity or a value too large for dtype('float64')."
     ]
    }
   ],
   "source": [
    "from sklearn.metrics import mean_squared_error\n",
    "\n",
    "mse_mean = mean_squared_error(pred_df['PXdiff'], pred_df['pred_mean'])\n",
    "mse_last = mean_squared_error(pred_df['PXdiff'], pred_df['pred_last_value'])\n",
    "mse_MA = mean_squared_error(pred_df['widget_sales_diff'], pred_df['pred_MA'])\n",
    "\n",
    "print(mse_mean, mse_last)"
   ]
  }
 ],
 "metadata": {
  "kernelspec": {
   "display_name": "Python 3 (ipykernel)",
   "language": "python",
   "name": "python3"
  },
  "language_info": {
   "codemirror_mode": {
    "name": "ipython",
    "version": 3
   },
   "file_extension": ".py",
   "mimetype": "text/x-python",
   "name": "python",
   "nbconvert_exporter": "python",
   "pygments_lexer": "ipython3",
   "version": "3.9.12"
  }
 },
 "nbformat": 4,
 "nbformat_minor": 5
}
