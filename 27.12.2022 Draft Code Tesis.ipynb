{
 "cells": [
  {
   "cell_type": "code",
   "execution_count": 1,
   "id": "ab6ef241",
   "metadata": {},
   "outputs": [],
   "source": [
    "from sklearn.metrics import mean_squared_error, mean_absolute_error\n",
    "from statsmodels.graphics.tsaplots import plot_acf, plot_pacf\n",
    "from statsmodels.tsa.seasonal import seasonal_decompose, STL\n",
    "from statsmodels.stats.diagnostic import acorr_ljungbox\n",
    "from statsmodels.tsa.statespace.sarimax import SARIMAX\n",
    "from statsmodels.tsa.arima_process import ArmaProcess\n",
    "from statsmodels.graphics.gofplots import qqplot\n",
    "from statsmodels.tsa.stattools import adfuller\n",
    "from tqdm import tqdm_notebook\n",
    "from itertools import product\n",
    "from typing import Union\n",
    "from matplotlib import pyplot as plt\n",
    "from matplotlib import dates as mpl_dates\n",
    "\n",
    "import matplotlib.pyplot as plt\n",
    "import statsmodels.api as sm\n",
    "import pandas as pd\n",
    "import numpy as np\n",
    "import datetime\n",
    "\n",
    "#import gspread as gs\n",
    "\n",
    "import warnings\n",
    "warnings.filterwarnings('ignore')\n",
    "\n",
    "%matplotlib inline\n"
   ]
  },
  {
   "cell_type": "code",
   "execution_count": 2,
   "id": "8e2096c1",
   "metadata": {},
   "outputs": [
    {
     "data": {
      "text/html": [
       "<div>\n",
       "<style scoped>\n",
       "    .dataframe tbody tr th:only-of-type {\n",
       "        vertical-align: middle;\n",
       "    }\n",
       "\n",
       "    .dataframe tbody tr th {\n",
       "        vertical-align: top;\n",
       "    }\n",
       "\n",
       "    .dataframe thead th {\n",
       "        text-align: right;\n",
       "    }\n",
       "</style>\n",
       "<table border=\"1\" class=\"dataframe\">\n",
       "  <thead>\n",
       "    <tr style=\"text-align: right;\">\n",
       "      <th></th>\n",
       "      <th>ticker</th>\n",
       "      <th>Name</th>\n",
       "    </tr>\n",
       "  </thead>\n",
       "  <tbody>\n",
       "    <tr>\n",
       "      <th>0</th>\n",
       "      <td>TX</td>\n",
       "      <td>Ternium</td>\n",
       "    </tr>\n",
       "    <tr>\n",
       "      <th>1</th>\n",
       "      <td>CLF</td>\n",
       "      <td>Cleveland-Cliff</td>\n",
       "    </tr>\n",
       "    <tr>\n",
       "      <th>2</th>\n",
       "      <td>STLD</td>\n",
       "      <td>Steel Dynamics</td>\n",
       "    </tr>\n",
       "    <tr>\n",
       "      <th>3</th>\n",
       "      <td>X</td>\n",
       "      <td>US Steel</td>\n",
       "    </tr>\n",
       "    <tr>\n",
       "      <th>4</th>\n",
       "      <td>GGB</td>\n",
       "      <td>Gerdau</td>\n",
       "    </tr>\n",
       "    <tr>\n",
       "      <th>5</th>\n",
       "      <td>NUE</td>\n",
       "      <td>Nuccor</td>\n",
       "    </tr>\n",
       "  </tbody>\n",
       "</table>\n",
       "</div>"
      ],
      "text/plain": [
       "  ticker             Name\n",
       "0     TX          Ternium\n",
       "1    CLF  Cleveland-Cliff\n",
       "2   STLD   Steel Dynamics\n",
       "3      X         US Steel\n",
       "4    GGB           Gerdau\n",
       "5    NUE           Nuccor"
      ]
     },
     "execution_count": 2,
     "metadata": {},
     "output_type": "execute_result"
    }
   ],
   "source": [
    "comp=pd.read_excel(r'C:\\Users\\bantenuc\\OneDrive - Ternium\\Escritorio\\BRUNO\\Tesis\\PDB.xlsx', sheet_name=7) #sheet_name=0 brings first sheet, =1 brings 2nd sheet\n",
    "comp"
   ]
  },
  {
   "cell_type": "code",
   "execution_count": 104,
   "id": "7b1179cb",
   "metadata": {},
   "outputs": [],
   "source": [
    "#Determines for which company we perform the analysis and modeling\n",
    "id=1"
   ]
  },
  {
   "cell_type": "code",
   "execution_count": 120,
   "id": "447080ef",
   "metadata": {},
   "outputs": [
    {
     "data": {
      "text/html": [
       "<div>\n",
       "<style scoped>\n",
       "    .dataframe tbody tr th:only-of-type {\n",
       "        vertical-align: middle;\n",
       "    }\n",
       "\n",
       "    .dataframe tbody tr th {\n",
       "        vertical-align: top;\n",
       "    }\n",
       "\n",
       "    .dataframe thead th {\n",
       "        text-align: right;\n",
       "    }\n",
       "</style>\n",
       "<table border=\"1\" class=\"dataframe\">\n",
       "  <thead>\n",
       "    <tr style=\"text-align: right;\">\n",
       "      <th></th>\n",
       "      <th>Q</th>\n",
       "      <th>Date</th>\n",
       "      <th>EV</th>\n",
       "      <th>TotEq</th>\n",
       "      <th>Cash</th>\n",
       "      <th>PrefEq</th>\n",
       "      <th>Debt</th>\n",
       "      <th>PX_LAST</th>\n",
       "      <th>MktCap</th>\n",
       "      <th>ShOu</th>\n",
       "      <th>EBITDA</th>\n",
       "      <th>EBITDA12m</th>\n",
       "    </tr>\n",
       "  </thead>\n",
       "  <tbody>\n",
       "    <tr>\n",
       "      <th>0</th>\n",
       "      <td>1Q2006</td>\n",
       "      <td>2006-01-31</td>\n",
       "      <td>1982.5556</td>\n",
       "      <td>895.8</td>\n",
       "      <td>202.7</td>\n",
       "      <td>244.2</td>\n",
       "      <td>0.0</td>\n",
       "      <td>26.9625</td>\n",
       "      <td>2365.0966</td>\n",
       "      <td>87.6620</td>\n",
       "      <td>76.6</td>\n",
       "      <td>399.2</td>\n",
       "    </tr>\n",
       "    <tr>\n",
       "      <th>1</th>\n",
       "      <td>1Q2006</td>\n",
       "      <td>2006-02-01</td>\n",
       "      <td>1982.5556</td>\n",
       "      <td>895.8</td>\n",
       "      <td>202.7</td>\n",
       "      <td>244.2</td>\n",
       "      <td>0.0</td>\n",
       "      <td>27.0625</td>\n",
       "      <td>2373.8684</td>\n",
       "      <td>87.6620</td>\n",
       "      <td>76.6</td>\n",
       "      <td>399.2</td>\n",
       "    </tr>\n",
       "    <tr>\n",
       "      <th>2</th>\n",
       "      <td>1Q2006</td>\n",
       "      <td>2006-02-02</td>\n",
       "      <td>1982.5556</td>\n",
       "      <td>895.8</td>\n",
       "      <td>202.7</td>\n",
       "      <td>244.2</td>\n",
       "      <td>0.0</td>\n",
       "      <td>25.8275</td>\n",
       "      <td>2265.5367</td>\n",
       "      <td>87.6620</td>\n",
       "      <td>76.6</td>\n",
       "      <td>399.2</td>\n",
       "    </tr>\n",
       "    <tr>\n",
       "      <th>3</th>\n",
       "      <td>1Q2006</td>\n",
       "      <td>2006-02-03</td>\n",
       "      <td>1982.5556</td>\n",
       "      <td>895.8</td>\n",
       "      <td>202.7</td>\n",
       "      <td>244.2</td>\n",
       "      <td>0.0</td>\n",
       "      <td>25.9450</td>\n",
       "      <td>2275.8436</td>\n",
       "      <td>87.6620</td>\n",
       "      <td>76.6</td>\n",
       "      <td>399.2</td>\n",
       "    </tr>\n",
       "    <tr>\n",
       "      <th>4</th>\n",
       "      <td>1Q2006</td>\n",
       "      <td>2006-02-06</td>\n",
       "      <td>1982.5556</td>\n",
       "      <td>895.8</td>\n",
       "      <td>202.7</td>\n",
       "      <td>244.2</td>\n",
       "      <td>0.0</td>\n",
       "      <td>27.0475</td>\n",
       "      <td>2372.5527</td>\n",
       "      <td>87.6620</td>\n",
       "      <td>76.6</td>\n",
       "      <td>399.2</td>\n",
       "    </tr>\n",
       "    <tr>\n",
       "      <th>...</th>\n",
       "      <td>...</td>\n",
       "      <td>...</td>\n",
       "      <td>...</td>\n",
       "      <td>...</td>\n",
       "      <td>...</td>\n",
       "      <td>...</td>\n",
       "      <td>...</td>\n",
       "      <td>...</td>\n",
       "      <td>...</td>\n",
       "      <td>...</td>\n",
       "      <td>...</td>\n",
       "      <td>...</td>\n",
       "    </tr>\n",
       "    <tr>\n",
       "      <th>4192</th>\n",
       "      <td>3Q2022</td>\n",
       "      <td>2022-09-26</td>\n",
       "      <td>12836.7957</td>\n",
       "      <td>6994.0</td>\n",
       "      <td>47.0</td>\n",
       "      <td>265.0</td>\n",
       "      <td>4668.0</td>\n",
       "      <td>13.0800</td>\n",
       "      <td>6766.2524</td>\n",
       "      <td>517.2932</td>\n",
       "      <td>1090.0</td>\n",
       "      <td>5725.0</td>\n",
       "    </tr>\n",
       "    <tr>\n",
       "      <th>4193</th>\n",
       "      <td>3Q2022</td>\n",
       "      <td>2022-09-27</td>\n",
       "      <td>12836.7957</td>\n",
       "      <td>6994.0</td>\n",
       "      <td>47.0</td>\n",
       "      <td>265.0</td>\n",
       "      <td>4668.0</td>\n",
       "      <td>13.6000</td>\n",
       "      <td>7035.2471</td>\n",
       "      <td>517.2932</td>\n",
       "      <td>1090.0</td>\n",
       "      <td>5725.0</td>\n",
       "    </tr>\n",
       "    <tr>\n",
       "      <th>4194</th>\n",
       "      <td>3Q2022</td>\n",
       "      <td>2022-09-28</td>\n",
       "      <td>12836.7957</td>\n",
       "      <td>6994.0</td>\n",
       "      <td>47.0</td>\n",
       "      <td>265.0</td>\n",
       "      <td>4668.0</td>\n",
       "      <td>13.9800</td>\n",
       "      <td>7231.8202</td>\n",
       "      <td>517.2932</td>\n",
       "      <td>1090.0</td>\n",
       "      <td>5725.0</td>\n",
       "    </tr>\n",
       "    <tr>\n",
       "      <th>4195</th>\n",
       "      <td>3Q2022</td>\n",
       "      <td>2022-09-29</td>\n",
       "      <td>12836.7957</td>\n",
       "      <td>6994.0</td>\n",
       "      <td>47.0</td>\n",
       "      <td>265.0</td>\n",
       "      <td>4668.0</td>\n",
       "      <td>13.7700</td>\n",
       "      <td>7123.1877</td>\n",
       "      <td>517.2932</td>\n",
       "      <td>1090.0</td>\n",
       "      <td>5725.0</td>\n",
       "    </tr>\n",
       "    <tr>\n",
       "      <th>4196</th>\n",
       "      <td>3Q2022</td>\n",
       "      <td>2022-09-30</td>\n",
       "      <td>11620.0603</td>\n",
       "      <td>7268.0</td>\n",
       "      <td>56.0</td>\n",
       "      <td>260.0</td>\n",
       "      <td>4475.0</td>\n",
       "      <td>13.4700</td>\n",
       "      <td>6967.9984</td>\n",
       "      <td>515.2977</td>\n",
       "      <td>424.0</td>\n",
       "      <td>4261.0</td>\n",
       "    </tr>\n",
       "  </tbody>\n",
       "</table>\n",
       "<p>4197 rows × 12 columns</p>\n",
       "</div>"
      ],
      "text/plain": [
       "           Q       Date          EV   TotEq   Cash  PrefEq    Debt  PX_LAST  \\\n",
       "0     1Q2006 2006-01-31   1982.5556   895.8  202.7   244.2     0.0  26.9625   \n",
       "1     1Q2006 2006-02-01   1982.5556   895.8  202.7   244.2     0.0  27.0625   \n",
       "2     1Q2006 2006-02-02   1982.5556   895.8  202.7   244.2     0.0  25.8275   \n",
       "3     1Q2006 2006-02-03   1982.5556   895.8  202.7   244.2     0.0  25.9450   \n",
       "4     1Q2006 2006-02-06   1982.5556   895.8  202.7   244.2     0.0  27.0475   \n",
       "...      ...        ...         ...     ...    ...     ...     ...      ...   \n",
       "4192  3Q2022 2022-09-26  12836.7957  6994.0   47.0   265.0  4668.0  13.0800   \n",
       "4193  3Q2022 2022-09-27  12836.7957  6994.0   47.0   265.0  4668.0  13.6000   \n",
       "4194  3Q2022 2022-09-28  12836.7957  6994.0   47.0   265.0  4668.0  13.9800   \n",
       "4195  3Q2022 2022-09-29  12836.7957  6994.0   47.0   265.0  4668.0  13.7700   \n",
       "4196  3Q2022 2022-09-30  11620.0603  7268.0   56.0   260.0  4475.0  13.4700   \n",
       "\n",
       "         MktCap      ShOu  EBITDA  EBITDA12m  \n",
       "0     2365.0966   87.6620    76.6      399.2  \n",
       "1     2373.8684   87.6620    76.6      399.2  \n",
       "2     2265.5367   87.6620    76.6      399.2  \n",
       "3     2275.8436   87.6620    76.6      399.2  \n",
       "4     2372.5527   87.6620    76.6      399.2  \n",
       "...         ...       ...     ...        ...  \n",
       "4192  6766.2524  517.2932  1090.0     5725.0  \n",
       "4193  7035.2471  517.2932  1090.0     5725.0  \n",
       "4194  7231.8202  517.2932  1090.0     5725.0  \n",
       "4195  7123.1877  517.2932  1090.0     5725.0  \n",
       "4196  6967.9984  515.2977   424.0     4261.0  \n",
       "\n",
       "[4197 rows x 12 columns]"
      ]
     },
     "execution_count": 120,
     "metadata": {},
     "output_type": "execute_result"
    }
   ],
   "source": [
    "df=pd.read_excel(r'C:\\Users\\bantenuc\\OneDrive - Ternium\\Escritorio\\BRUNO\\Tesis\\PDB.xlsx', sheet_name=id) #sheet_name=0 brings first sheet, =1 brings 2nd sheet\n",
    "df = df.dropna() #is it ok to drop NaN values\n",
    "df=df.reset_index()\n",
    "df = df.drop('index', axis=1)\n",
    "#df=df.set_index('Date')\n",
    "df"
   ]
  },
  {
   "cell_type": "code",
   "execution_count": 121,
   "id": "562c4e48",
   "metadata": {},
   "outputs": [],
   "source": [
    "#Describe the info of the df (count, mean, std, min, max, etc)\n",
    "#df.describe().transpose()"
   ]
  },
  {
   "cell_type": "code",
   "execution_count": null,
   "id": "551db787",
   "metadata": {},
   "outputs": [],
   "source": [
    "#Choose the rows that satisfy a condition and create a new df.\n",
    "#quarter_df = df.loc[df['Q'] =='4Q2007']\n",
    "#quarter_df"
   ]
  },
  {
   "cell_type": "code",
   "execution_count": 6,
   "id": "7f7e7823",
   "metadata": {},
   "outputs": [],
   "source": [
    "#Date commands\n",
    "df['Date'] = pd.to_datetime(df.Date) #convert the date string into date object\n",
    "#df.Date.dt.day_name() -> brings the name of the dayweek\n",
    "#df.dtypes"
   ]
  },
  {
   "cell_type": "code",
   "execution_count": 7,
   "id": "b43b8996",
   "metadata": {},
   "outputs": [],
   "source": [
    "Qclose=pd.read_excel(r'C:\\Users\\bantenuc\\OneDrive - Ternium\\Escritorio\\BRUNO\\Tesis\\PDB.xlsx', sheet_name=6) #sheet_name=0 brings first sheet, =1 brings 2nd sheet\n",
    "#Qclose"
   ]
  },
  {
   "cell_type": "code",
   "execution_count": null,
   "id": "180e1aac",
   "metadata": {},
   "outputs": [],
   "source": [
    "#Mean of a column\n",
    "\n",
    "#df.PX_LAST.mean()"
   ]
  },
  {
   "cell_type": "code",
   "execution_count": 122,
   "id": "e82451f4",
   "metadata": {},
   "outputs": [
    {
     "data": {
      "image/png": "[encoded data removed]",
      "text/plain": [
       "<Figure size 432x288 with 1 Axes>"
      ]
     },
     "metadata": {
      "needs_background": "light"
     },
     "output_type": "display_data"
    }
   ],
   "source": [
    "# Plot the time series\n",
    "fig, ax = plt.subplots()\n",
    "\n",
    "ax.plot(df.Date,df['PX_LAST'])\n",
    "ax.set_xlabel(comp.Name[id])\n",
    "ax.set_ylabel('Price')\n",
    "\n",
    "\n",
    "fig.autofmt_xdate()\n",
    "plt.tight_layout()"
   ]
  },
  {
   "cell_type": "code",
   "execution_count": 123,
   "id": "668df828",
   "metadata": {},
   "outputs": [
    {
     "name": "stdout",
     "output_type": "stream",
     "text": [
      "ADF Statistic: -2.149455684662609\n",
      "p-value: 0.2250984995042462\n"
     ]
    }
   ],
   "source": [
    "#Check for stationarity - ADF is not a large negative number and p-value is greater than 0.05\n",
    "target = df['PX_LAST']\n",
    "ADF_result = adfuller(target)\n",
    "print(f'ADF Statistic: {ADF_result[0]}') \n",
    "print(f'p-value: {ADF_result[1]}')"
   ]
  },
  {
   "cell_type": "code",
   "execution_count": 124,
   "id": "1c5a8ee7",
   "metadata": {},
   "outputs": [
    {
     "name": "stdout",
     "output_type": "stream",
     "text": [
      "ADF Statistic: -10.164580352374134\n",
      "p-value: 7.356063544398727e-18\n"
     ]
    }
   ],
   "source": [
    "#Take first difference and check for stationarity\n",
    "\n",
    "df['PXdiff'] = target.diff()\n",
    "\n",
    "ad_fuller_result = adfuller(df.PXdiff[1:])\n",
    "\n",
    "print(f'ADF Statistic: {ad_fuller_result[0]}')\n",
    "print(f'p-value: {ad_fuller_result[1]}')"
   ]
  },
  {
   "cell_type": "code",
   "execution_count": 125,
   "id": "4b5427f5",
   "metadata": {},
   "outputs": [
    {
     "data": {
      "image/png": "[encoded data removed]",
      "text/plain": [
       "<Figure size 432x288 with 1 Axes>"
      ]
     },
     "metadata": {
      "needs_background": "light"
     },
     "output_type": "display_data"
    }
   ],
   "source": [
    "#Plot differenced series\n",
    "fig, ax = plt.subplots()\n",
    "\n",
    "ax.plot(df.Date,df.PXdiff)\n",
    "ax.set_xlabel(comp.Name[id] + ' 1st diff')\n",
    "ax.set_ylabel('Price diff')\n",
    "\n",
    "\n",
    "fig.autofmt_xdate()\n",
    "plt.tight_layout()"
   ]
  },
  {
   "cell_type": "code",
   "execution_count": null,
   "id": "db8f5cdd",
   "metadata": {},
   "outputs": [],
   "source": [
    "df.head()"
   ]
  },
  {
   "cell_type": "code",
   "execution_count": 126,
   "id": "cb02b765",
   "metadata": {},
   "outputs": [
    {
     "data": {
      "image/png": "[encoded data removed]",
      "text/plain": [
       "<Figure size 432x288 with 1 Axes>"
      ]
     },
     "metadata": {
      "needs_background": "light"
     },
     "output_type": "display_data"
    }
   ],
   "source": [
    "#Plot ACF for differenced series.\n",
    "#df = df.dropna() #is it ok to drop NaN values\n",
    "from statsmodels.graphics.tsaplots import plot_acf\n",
    "plot_acf(df.PXdiff[1:], lags=12); \n",
    "plt.tight_layout() #If there is NO AUTOCORRELATION - Is a random walk"
   ]
  },
  {
   "cell_type": "code",
   "execution_count": 127,
   "id": "e38b8606",
   "metadata": {},
   "outputs": [
    {
     "name": "stdout",
     "output_type": "stream",
     "text": [
      "3777\n",
      "420\n"
     ]
    }
   ],
   "source": [
    "df_diff = pd.DataFrame(df.PXdiff)\n",
    "\n",
    "train = df_diff[:int(0.9*len(df_diff))]\n",
    "test = df_diff[int(0.9*len(df_diff)):]\n",
    "\n",
    "print(len(train))\n",
    "print(len(test))"
   ]
  },
  {
   "cell_type": "code",
   "execution_count": 128,
   "id": "440d8e69",
   "metadata": {},
   "outputs": [
    {
     "data": {
      "text/plain": [
       "<matplotlib.patches.Polygon at 0x2839f56f520>"
      ]
     },
     "execution_count": 128,
     "metadata": {},
     "output_type": "execute_result"
    },
    {
     "data": {
      "image/png": "[encoded data removed]",
      "text/plain": [
       "<Figure size 432x288 with 2 Axes>"
      ]
     },
     "metadata": {
      "needs_background": "light"
     },
     "output_type": "display_data"
    }
   ],
   "source": [
    "#Graph and highlight the test set\n",
    "\n",
    "fig, (ax1, ax2) = plt.subplots(nrows=2, ncols=1, sharex=True)\n",
    "\n",
    "ax1.plot(df['PX_LAST'])\n",
    "ax1.set_xlabel('Time')\n",
    "ax1.set_ylabel('Tx Px')\n",
    "ax1.axvspan(len(train), len(train)+len(test), color='#808080', alpha=0.2)\n",
    "\n",
    "ax2.plot(df_diff)\n",
    "ax2.set_xlabel('Time')\n",
    "ax2.set_ylabel('Px diff')\n",
    "ax2.axvspan(len(train), len(train)+len(test), color='#808080', alpha=0.2)"
   ]
  },
  {
   "cell_type": "code",
   "execution_count": null,
   "id": "3eef982e",
   "metadata": {},
   "outputs": [],
   "source": [
    "#SINCE ALL SERIES SHOW NO AUTOCORRELATION AFTER TAKING FIRST DIFFERENCE, "
   ]
  },
  {
   "cell_type": "code",
   "execution_count": 129,
   "id": "10c6aa15",
   "metadata": {},
   "outputs": [],
   "source": [
    "#Defining set of possible values for P and Q\n",
    "\n",
    "ps = range(0, 5, 1)\n",
    "qs = range(0, 5, 1)\n",
    "\n",
    "order_list = list(product(ps, qs))\n",
    "#order_list"
   ]
  },
  {
   "cell_type": "code",
   "execution_count": 130,
   "id": "ab2002c5",
   "metadata": {},
   "outputs": [],
   "source": [
    "#Optimizing ARMA process from convinations from 0 to 4 for P and Q\n",
    "\n",
    "from typing import Union\n",
    "\n",
    "def optimize_ARMA(endog: Union[pd.Series, list], order_list: list) -> pd.DataFrame:\n",
    "    \n",
    "    results = []\n",
    "    \n",
    "    for order in tqdm_notebook(order_list):\n",
    "        try: \n",
    "            model = SARIMAX(endog, order=(order[0], 0, order[1]), simple_differencing=False).fit(disp=False)\n",
    "        except:\n",
    "            continue\n",
    "            \n",
    "        aic = model.aic\n",
    "        results.append([order, aic])\n",
    "        \n",
    "    result_df = pd.DataFrame(results)\n",
    "    result_df.columns = ['(p,q)', 'AIC']\n",
    "    \n",
    "    #Sort in ascending order, lower AIC is better\n",
    "    result_df = result_df.sort_values(by='AIC', ascending=True).reset_index(drop=True)\n",
    "    \n",
    "    return result_df"
   ]
  },
  {
   "cell_type": "code",
   "execution_count": 131,
   "id": "d75abfe6",
   "metadata": {
    "scrolled": true
   },
   "outputs": [
    {
     "data": {
      "application/vnd.jupyter.widget-view+json": {
       "model_id": "418ce39b340f4a03b07bcc3e271eca94",
       "version_major": 2,
       "version_minor": 0
      },
      "text/plain": [
       "  0%|          | 0/25 [00:00<?, ?it/s]"
      ]
     },
     "metadata": {},
     "output_type": "display_data"
    },
    {
     "data": {
      "text/html": [
       "<div>\n",
       "<style scoped>\n",
       "    .dataframe tbody tr th:only-of-type {\n",
       "        vertical-align: middle;\n",
       "    }\n",
       "\n",
       "    .dataframe tbody tr th {\n",
       "        vertical-align: top;\n",
       "    }\n",
       "\n",
       "    .dataframe thead th {\n",
       "        text-align: right;\n",
       "    }\n",
       "</style>\n",
       "<table border=\"1\" class=\"dataframe\">\n",
       "  <thead>\n",
       "    <tr style=\"text-align: right;\">\n",
       "      <th></th>\n",
       "      <th>(p,q)</th>\n",
       "      <th>AIC</th>\n",
       "    </tr>\n",
       "  </thead>\n",
       "  <tbody>\n",
       "    <tr>\n",
       "      <th>0</th>\n",
       "      <td>(4, 4)</td>\n",
       "      <td>15011.125194</td>\n",
       "    </tr>\n",
       "    <tr>\n",
       "      <th>1</th>\n",
       "      <td>(3, 3)</td>\n",
       "      <td>15022.309707</td>\n",
       "    </tr>\n",
       "    <tr>\n",
       "      <th>2</th>\n",
       "      <td>(2, 2)</td>\n",
       "      <td>15024.002723</td>\n",
       "    </tr>\n",
       "    <tr>\n",
       "      <th>3</th>\n",
       "      <td>(2, 3)</td>\n",
       "      <td>15025.435755</td>\n",
       "    </tr>\n",
       "    <tr>\n",
       "      <th>4</th>\n",
       "      <td>(4, 3)</td>\n",
       "      <td>15029.755715</td>\n",
       "    </tr>\n",
       "    <tr>\n",
       "      <th>5</th>\n",
       "      <td>(3, 4)</td>\n",
       "      <td>15029.998477</td>\n",
       "    </tr>\n",
       "    <tr>\n",
       "      <th>6</th>\n",
       "      <td>(0, 0)</td>\n",
       "      <td>15034.499093</td>\n",
       "    </tr>\n",
       "    <tr>\n",
       "      <th>7</th>\n",
       "      <td>(0, 1)</td>\n",
       "      <td>15035.531942</td>\n",
       "    </tr>\n",
       "    <tr>\n",
       "      <th>8</th>\n",
       "      <td>(1, 0)</td>\n",
       "      <td>15035.541760</td>\n",
       "    </tr>\n",
       "    <tr>\n",
       "      <th>9</th>\n",
       "      <td>(2, 0)</td>\n",
       "      <td>15037.416101</td>\n",
       "    </tr>\n",
       "    <tr>\n",
       "      <th>10</th>\n",
       "      <td>(0, 2)</td>\n",
       "      <td>15037.438952</td>\n",
       "    </tr>\n",
       "    <tr>\n",
       "      <th>11</th>\n",
       "      <td>(1, 1)</td>\n",
       "      <td>15037.505063</td>\n",
       "    </tr>\n",
       "    <tr>\n",
       "      <th>12</th>\n",
       "      <td>(2, 1)</td>\n",
       "      <td>15037.926776</td>\n",
       "    </tr>\n",
       "    <tr>\n",
       "      <th>13</th>\n",
       "      <td>(0, 3)</td>\n",
       "      <td>15037.979856</td>\n",
       "    </tr>\n",
       "    <tr>\n",
       "      <th>14</th>\n",
       "      <td>(3, 0)</td>\n",
       "      <td>15037.988542</td>\n",
       "    </tr>\n",
       "    <tr>\n",
       "      <th>15</th>\n",
       "      <td>(1, 2)</td>\n",
       "      <td>15038.027375</td>\n",
       "    </tr>\n",
       "    <tr>\n",
       "      <th>16</th>\n",
       "      <td>(3, 1)</td>\n",
       "      <td>15039.119703</td>\n",
       "    </tr>\n",
       "    <tr>\n",
       "      <th>17</th>\n",
       "      <td>(1, 3)</td>\n",
       "      <td>15039.156163</td>\n",
       "    </tr>\n",
       "    <tr>\n",
       "      <th>18</th>\n",
       "      <td>(0, 4)</td>\n",
       "      <td>15039.848511</td>\n",
       "    </tr>\n",
       "    <tr>\n",
       "      <th>19</th>\n",
       "      <td>(4, 0)</td>\n",
       "      <td>15039.881451</td>\n",
       "    </tr>\n",
       "    <tr>\n",
       "      <th>20</th>\n",
       "      <td>(4, 1)</td>\n",
       "      <td>15041.119482</td>\n",
       "    </tr>\n",
       "    <tr>\n",
       "      <th>21</th>\n",
       "      <td>(1, 4)</td>\n",
       "      <td>15041.165870</td>\n",
       "    </tr>\n",
       "    <tr>\n",
       "      <th>22</th>\n",
       "      <td>(3, 2)</td>\n",
       "      <td>15041.921255</td>\n",
       "    </tr>\n",
       "    <tr>\n",
       "      <th>23</th>\n",
       "      <td>(4, 2)</td>\n",
       "      <td>15042.418797</td>\n",
       "    </tr>\n",
       "    <tr>\n",
       "      <th>24</th>\n",
       "      <td>(2, 4)</td>\n",
       "      <td>15042.589122</td>\n",
       "    </tr>\n",
       "  </tbody>\n",
       "</table>\n",
       "</div>"
      ],
      "text/plain": [
       "     (p,q)           AIC\n",
       "0   (4, 4)  15011.125194\n",
       "1   (3, 3)  15022.309707\n",
       "2   (2, 2)  15024.002723\n",
       "3   (2, 3)  15025.435755\n",
       "4   (4, 3)  15029.755715\n",
       "5   (3, 4)  15029.998477\n",
       "6   (0, 0)  15034.499093\n",
       "7   (0, 1)  15035.531942\n",
       "8   (1, 0)  15035.541760\n",
       "9   (2, 0)  15037.416101\n",
       "10  (0, 2)  15037.438952\n",
       "11  (1, 1)  15037.505063\n",
       "12  (2, 1)  15037.926776\n",
       "13  (0, 3)  15037.979856\n",
       "14  (3, 0)  15037.988542\n",
       "15  (1, 2)  15038.027375\n",
       "16  (3, 1)  15039.119703\n",
       "17  (1, 3)  15039.156163\n",
       "18  (0, 4)  15039.848511\n",
       "19  (4, 0)  15039.881451\n",
       "20  (4, 1)  15041.119482\n",
       "21  (1, 4)  15041.165870\n",
       "22  (3, 2)  15041.921255\n",
       "23  (4, 2)  15042.418797\n",
       "24  (2, 4)  15042.589122"
      ]
     },
     "execution_count": 131,
     "metadata": {},
     "output_type": "execute_result"
    }
   ],
   "source": [
    "#AIC results ordered by min to max. The lowest one is the best convination to fit ARMA(P,Q)\n",
    "\n",
    "result_df = optimize_ARMA(df.PXdiff[1:], order_list)\n",
    "result_df"
   ]
  },
  {
   "cell_type": "code",
   "execution_count": 132,
   "id": "09d26783",
   "metadata": {},
   "outputs": [],
   "source": [
    "# Model with lowest AIC : ARMA(4,4) - PERFORMING RESIDUAL ANALYSIS\n",
    "\n",
    "model = SARIMAX(df.PXdiff, order=(4,0,4), simple_differencing=False)\n",
    "model_fit = model.fit(disp=False)\n",
    "residuals = model_fit.resid"
   ]
  },
  {
   "cell_type": "code",
   "execution_count": 133,
   "id": "49c6b2f8",
   "metadata": {},
   "outputs": [
    {
     "data": {
      "image/png": "[encoded data removed]",
      "text/plain": [
       "<Figure size 432x288 with 1 Axes>"
      ]
     },
     "execution_count": 133,
     "metadata": {},
     "output_type": "execute_result"
    },
    {
     "data": {
      "image/png": "[encoded data removed]",
      "text/plain": [
       "<Figure size 432x288 with 1 Axes>"
      ]
     },
     "metadata": {
      "needs_background": "light"
     },
     "output_type": "display_data"
    }
   ],
   "source": [
    "# PLOT RESIDUALS\n",
    "from statsmodels.graphics.gofplots import qqplot\n",
    "\n",
    "qqplot(residuals, line='45')"
   ]
  },
  {
   "cell_type": "code",
   "execution_count": null,
   "id": "39296d15",
   "metadata": {},
   "outputs": [],
   "source": [
    "# def the models. Mean - Last Price - MA.\n",
    "from statsmodels.tsa.statespace.sarimax import SARIMAX\n",
    "\n",
    "def rolling_forecast(df: pd.DataFrame, train_len: int, horizon: int, window: int, method: str) -> list:\n",
    "    \n",
    "    total_len = train_len + horizon\n",
    "    \n",
    "    if method == 'mean':#NOT RUNNING\n",
    "        pred_mean = []\n",
    "        \n",
    "        for i in range(train_len, total_len, window):\n",
    "            mean = np.mean(df[:i].values)\n",
    "            pred_mean.extend(mean for _ in range(window))\n",
    "\n",
    "        return pred_mean\n",
    "\n",
    "    elif method == 'last':\n",
    "        pred_last_value = []\n",
    "        \n",
    "        for i in range(train_len, total_len, window):\n",
    "            last_value = df[:i].iloc[-1].values[0]\n",
    "            pred_last_value.extend(last_value for _ in range(window))\n",
    "            \n",
    "        return pred_last_value\n",
    "    \n",
    "    elif method == 'MA':\n",
    "        pred_MA = []\n",
    "        \n",
    "        for i in range(train_len, total_len, window):\n",
    "            model = SARIMAX(df[:i], order=(0,0,4))\n",
    "            res = model.fit(disp=False)\n",
    "            predictions = res.get_prediction(0, i + window - 1)\n",
    "            oos_pred = predictions.predicted_mean.iloc[-window:]\n",
    "            pred_MA.extend(oos_pred)\n",
    "            \n",
    "        return pred_MA"
   ]
  },
  {
   "cell_type": "code",
   "execution_count": null,
   "id": "7e1fb821",
   "metadata": {},
   "outputs": [],
   "source": [
    "#Save the results. Check what happened with the mean value.\n",
    "pred_df = test.copy()\n",
    "\n",
    "TRAIN_LEN = len(train)\n",
    "HORIZON = len(test)\n",
    "WINDOW = 2\n",
    "\n",
    "pred_mean = rolling_forecast(df_diff, TRAIN_LEN, HORIZON, WINDOW, 'mean')\n",
    "pred_last_value = rolling_forecast(df_diff, TRAIN_LEN, HORIZON, WINDOW, 'last')\n",
    "pred_MA = rolling_forecast(df_diff, TRAIN_LEN, HORIZON, WINDOW, 'MA')\n",
    "\n",
    "pred_df['pred_mean'] = pred_mean\n",
    "pred_df['pred_last_value'] = pred_last_value\n",
    "pred_df['pred_MA'] = pred_MA\n",
    "\n",
    "pred_df.head()\n",
    "# Where is it calling PX_LAST to the differenced series. Why mean is not calculating? (Bc of NaN values on Dataset??)"
   ]
  },
  {
   "cell_type": "code",
   "execution_count": null,
   "id": "715557d6",
   "metadata": {},
   "outputs": [],
   "source": [
    "# Plot all results. Don't know why other results are not showing up\n",
    "\n",
    "fig, ax = plt.subplots()\n",
    "\n",
    "ax.plot(df_diff['PXdiff'])\n",
    "ax.plot(pred_df['PXdiff'], 'b-', label='actual')\n",
    "ax.plot(pred_df['pred_mean'], 'g:', label='mean')\n",
    "ax.plot(pred_df['pred_last_value'], 'r-.', label='last')\n",
    "ax.plot(pred_df['pred_MA'], 'k--', label='MA(2)')\n",
    "\n",
    "ax.legend(loc=2)\n",
    "\n",
    "ax.set_xlabel('Time')\n",
    "ax.set_ylabel('PX_Last')\n",
    "\n",
    "ax.axvspan(len(train), len(train)+30, color='#808080', alpha=0.2)\n",
    "\n",
    "ax.set_xlim(len(train)-10, len(train)+30)\n",
    "\n",
    "\n",
    "\n",
    "fig.autofmt_xdate()\n",
    "plt.tight_layout()"
   ]
  },
  {
   "cell_type": "code",
   "execution_count": null,
   "id": "43b2b7f2",
   "metadata": {},
   "outputs": [],
   "source": [
    "from sklearn.metrics import mean_squared_error\n",
    "\n",
    "mse_mean = mean_squared_error(pred_df['PXdiff'], pred_df['pred_mean'])\n",
    "mse_last = mean_squared_error(pred_df['PXdiff'], pred_df['pred_last_value'])\n",
    "mse_MA = mean_squared_error(pred_df['widget_sales_diff'], pred_df['pred_MA'])\n",
    "\n",
    "print(mse_mean, mse_last)"
   ]
  }
 ],
 "metadata": {
  "kernelspec": {
   "display_name": "Python 3 (ipykernel)",
   "language": "python",
   "name": "python3"
  },
  "language_info": {
   "codemirror_mode": {
    "name": "ipython",
    "version": 3
   },
   "file_extension": ".py",
   "mimetype": "text/x-python",
   "name": "python",
   "nbconvert_exporter": "python",
   "pygments_lexer": "ipython3",
   "version": "3.9.12"
  }
 },
 "nbformat": 4,
 "nbformat_minor": 5
}
