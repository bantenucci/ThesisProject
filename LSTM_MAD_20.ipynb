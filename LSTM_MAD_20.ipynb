{
  "nbformat": 4,
  "nbformat_minor": 0,
  "metadata": {
    "colab": {
      "provenance": []
    },
    "kernelspec": {
      "name": "python3",
      "display_name": "Python 3"
    },
    "language_info": {
      "name": "python"
    }
  },
  "cells": [
    {
      "cell_type": "code",
      "execution_count": 1,
      "metadata": {
        "id": "MJTDzK0KZieL"
      },
      "outputs": [],
      "source": [
        "import math \n",
        "import pandas as pd\n",
        "import numpy as np\n",
        "import pandas_datareader as web\n",
        "from sklearn.preprocessing import MinMaxScaler\n",
        "from tensorflow.keras.models import Sequential \n",
        "from keras.layers import Dense, LSTM\n",
        "import matplotlib.pyplot as plt\n",
        "plt.style.use('fivethirtyeight')"
      ]
    },
    {
      "cell_type": "code",
      "source": [
        "# Diciconarie of abailable stocks/indexes with page reference of the excel file\n",
        "# This can be replaced with direct download from yfinance\n",
        "dic = pd.read_excel(r'/content/Datos BBG.xlsx', sheet_name=5)\n",
        "dic"
      ],
      "metadata": {
        "colab": {
          "base_uri": "https://localhost:8080/",
          "height": 206
        },
        "id": "aMoDAE4Qc0bg",
        "outputId": "07d9a063-9de7-4b72-cf93-641a41127803"
      },
      "execution_count": 4,
      "outputs": [
        {
          "output_type": "execute_result",
          "data": {
            "text/plain": [
              "      Index\n",
              "0    Merval\n",
              "1      MADX\n",
              "2  FTSE MIB\n",
              "3      DAX \n",
              "4       UKX"
            ],
            "text/html": [
              "\n",
              "  <div id=\"df-1e09910c-0dfa-4202-ab95-5646b238d0a4\">\n",
              "    <div class=\"colab-df-container\">\n",
              "      <div>\n",
              "<style scoped>\n",
              "    .dataframe tbody tr th:only-of-type {\n",
              "        vertical-align: middle;\n",
              "    }\n",
              "\n",
              "    .dataframe tbody tr th {\n",
              "        vertical-align: top;\n",
              "    }\n",
              "\n",
              "    .dataframe thead th {\n",
              "        text-align: right;\n",
              "    }\n",
              "</style>\n",
              "<table border=\"1\" class=\"dataframe\">\n",
              "  <thead>\n",
              "    <tr style=\"text-align: right;\">\n",
              "      <th></th>\n",
              "      <th>Index</th>\n",
              "    </tr>\n",
              "  </thead>\n",
              "  <tbody>\n",
              "    <tr>\n",
              "      <th>0</th>\n",
              "      <td>Merval</td>\n",
              "    </tr>\n",
              "    <tr>\n",
              "      <th>1</th>\n",
              "      <td>MADX</td>\n",
              "    </tr>\n",
              "    <tr>\n",
              "      <th>2</th>\n",
              "      <td>FTSE MIB</td>\n",
              "    </tr>\n",
              "    <tr>\n",
              "      <th>3</th>\n",
              "      <td>DAX</td>\n",
              "    </tr>\n",
              "    <tr>\n",
              "      <th>4</th>\n",
              "      <td>UKX</td>\n",
              "    </tr>\n",
              "  </tbody>\n",
              "</table>\n",
              "</div>\n",
              "      <button class=\"colab-df-convert\" onclick=\"convertToInteractive('df-1e09910c-0dfa-4202-ab95-5646b238d0a4')\"\n",
              "              title=\"Convert this dataframe to an interactive table.\"\n",
              "              style=\"display:none;\">\n",
              "        \n",
              "  <svg xmlns=\"http://www.w3.org/2000/svg\" height=\"24px\"viewBox=\"0 0 24 24\"\n",
              "       width=\"24px\">\n",
              "    <path d=\"M0 0h24v24H0V0z\" fill=\"none\"/>\n",
              "    <path d=\"M18.56 5.44l.94 2.06.94-2.06 2.06-.94-2.06-.94-.94-2.06-.94 2.06-2.06.94zm-11 1L8.5 8.5l.94-2.06 2.06-.94-2.06-.94L8.5 2.5l-.94 2.06-2.06.94zm10 10l.94 2.06.94-2.06 2.06-.94-2.06-.94-.94-2.06-.94 2.06-2.06.94z\"/><path d=\"M17.41 7.96l-1.37-1.37c-.4-.4-.92-.59-1.43-.59-.52 0-1.04.2-1.43.59L10.3 9.45l-7.72 7.72c-.78.78-.78 2.05 0 2.83L4 21.41c.39.39.9.59 1.41.59.51 0 1.02-.2 1.41-.59l7.78-7.78 2.81-2.81c.8-.78.8-2.07 0-2.86zM5.41 20L4 18.59l7.72-7.72 1.47 1.35L5.41 20z\"/>\n",
              "  </svg>\n",
              "      </button>\n",
              "      \n",
              "  <style>\n",
              "    .colab-df-container {\n",
              "      display:flex;\n",
              "      flex-wrap:wrap;\n",
              "      gap: 12px;\n",
              "    }\n",
              "\n",
              "    .colab-df-convert {\n",
              "      background-color: #E8F0FE;\n",
              "      border: none;\n",
              "      border-radius: 50%;\n",
              "      cursor: pointer;\n",
              "      display: none;\n",
              "      fill: #1967D2;\n",
              "      height: 32px;\n",
              "      padding: 0 0 0 0;\n",
              "      width: 32px;\n",
              "    }\n",
              "\n",
              "    .colab-df-convert:hover {\n",
              "      background-color: #E2EBFA;\n",
              "      box-shadow: 0px 1px 2px rgba(60, 64, 67, 0.3), 0px 1px 3px 1px rgba(60, 64, 67, 0.15);\n",
              "      fill: #174EA6;\n",
              "    }\n",
              "\n",
              "    [theme=dark] .colab-df-convert {\n",
              "      background-color: #3B4455;\n",
              "      fill: #D2E3FC;\n",
              "    }\n",
              "\n",
              "    [theme=dark] .colab-df-convert:hover {\n",
              "      background-color: #434B5C;\n",
              "      box-shadow: 0px 1px 3px 1px rgba(0, 0, 0, 0.15);\n",
              "      filter: drop-shadow(0px 1px 2px rgba(0, 0, 0, 0.3));\n",
              "      fill: #FFFFFF;\n",
              "    }\n",
              "  </style>\n",
              "\n",
              "      <script>\n",
              "        const buttonEl =\n",
              "          document.querySelector('#df-1e09910c-0dfa-4202-ab95-5646b238d0a4 button.colab-df-convert');\n",
              "        buttonEl.style.display =\n",
              "          google.colab.kernel.accessAllowed ? 'block' : 'none';\n",
              "\n",
              "        async function convertToInteractive(key) {\n",
              "          const element = document.querySelector('#df-1e09910c-0dfa-4202-ab95-5646b238d0a4');\n",
              "          const dataTable =\n",
              "            await google.colab.kernel.invokeFunction('convertToInteractive',\n",
              "                                                     [key], {});\n",
              "          if (!dataTable) return;\n",
              "\n",
              "          const docLinkHtml = 'Like what you see? Visit the ' +\n",
              "            '<a target=\"_blank\" href=https://colab.research.google.com/notebooks/data_table.ipynb>data table notebook</a>'\n",
              "            + ' to learn more about interactive tables.';\n",
              "          element.innerHTML = '';\n",
              "          dataTable['output_type'] = 'display_data';\n",
              "          await google.colab.output.renderOutput(dataTable, element);\n",
              "          const docLink = document.createElement('div');\n",
              "          docLink.innerHTML = docLinkHtml;\n",
              "          element.appendChild(docLink);\n",
              "        }\n",
              "      </script>\n",
              "    </div>\n",
              "  </div>\n",
              "  "
            ]
          },
          "metadata": {},
          "execution_count": 4
        }
      ]
    },
    {
      "cell_type": "code",
      "source": [
        "#Wich index would you choose\n",
        "id = 1"
      ],
      "metadata": {
        "id": "97jZaNhPOcAd"
      },
      "execution_count": 7,
      "outputs": []
    },
    {
      "cell_type": "code",
      "source": [
        "data_backup = pd.read_excel(r'/content/Datos BBG.xlsx', sheet_name=id)"
      ],
      "metadata": {
        "id": "KU3X4H6Ibt99"
      },
      "execution_count": 8,
      "outputs": []
    },
    {
      "cell_type": "code",
      "source": [
        "# Import data. Generates data_backup with original data. \n",
        "# mer: includes trade volume, Interest rate and M2 money supply in case to be included\n",
        "# dpx : generates a dataframe only with price and returns. Also adds a column of the 1st difference of prices.\n",
        "data_backup = pd.read_excel(r'/content/Datos BBG.xlsx', sheet_name=id) #sheet_name=0 brings first sheet, =1 brings 2nd sheet\n",
        "mer = data_backup\n",
        "dpx = mer[['Date','PX','PXret']]\n",
        "dpx = dpx[dpx['PXret'].notnull()] #generates a new DF with Price and Returns\n",
        "dpx['PXdiff'] = dpx.PX.diff() # Add a column with 1st differences\n",
        "dpx['PXvol'] = dpx.PXret.abs()\n",
        "date = dpx['Date']\n",
        "dpxd = dpx #Equal to dpx but with date as index\n",
        "dpxd = dpxd.set_index('Date')\n",
        "lsty = dpx.tail(250)\n",
        "#dpx = dpx.set_index('Date')\n",
        "#yrl= pd.DataFrame(np.unique(dpx.Date.year))#Create a df of years for store data of each year\n",
        "#yrl.rename( columns={0 :'Year'}, inplace=True )\n",
        "#mer = mer.dropna() #is it ok to drop NaN values\n",
        "#mer = mer.reset_index()\n",
        "#mer = mer.drop('index', axis=1)\n",
        "pd.set_option('display.float_format', lambda x: '%.3f' % x)\n",
        "mer=mer.set_index('Date')\n",
        "dpx #keep index as order of observations"
      ],
      "metadata": {
        "colab": {
          "base_uri": "https://localhost:8080/",
          "height": 424
        },
        "id": "D0YL63PvOnbY",
        "outputId": "35c3394c-bc13-4abb-afeb-8af64ce1045b"
      },
      "execution_count": 9,
      "outputs": [
        {
          "output_type": "execute_result",
          "data": {
            "text/plain": [
              "           Date      PX  PXret  PXdiff  PXvol\n",
              "1    1993-02-19 233.200  0.005     NaN  0.005\n",
              "2    1993-02-22 232.300 -0.004  -0.900  0.004\n",
              "3    1993-02-23 227.800 -0.019  -4.500  0.019\n",
              "4    1993-02-24 227.900  0.000   0.100  0.000\n",
              "5    1993-02-25 228.000  0.000   0.100  0.000\n",
              "...         ...     ...    ...     ...    ...\n",
              "7551 2022-12-23 823.570 -0.000  -0.220  0.000\n",
              "7552 2022-12-27 823.830  0.000   0.260  0.000\n",
              "7553 2022-12-28 822.810 -0.001  -1.020  0.001\n",
              "7554 2022-12-29 828.870  0.007   6.060  0.007\n",
              "7555 2022-12-30 820.210 -0.010  -8.660  0.010\n",
              "\n",
              "[7549 rows x 5 columns]"
            ],
            "text/html": [
              "\n",
              "  <div id=\"df-4e57c008-14f6-459a-ab57-e2802c97bd8c\">\n",
              "    <div class=\"colab-df-container\">\n",
              "      <div>\n",
              "<style scoped>\n",
              "    .dataframe tbody tr th:only-of-type {\n",
              "        vertical-align: middle;\n",
              "    }\n",
              "\n",
              "    .dataframe tbody tr th {\n",
              "        vertical-align: top;\n",
              "    }\n",
              "\n",
              "    .dataframe thead th {\n",
              "        text-align: right;\n",
              "    }\n",
              "</style>\n",
              "<table border=\"1\" class=\"dataframe\">\n",
              "  <thead>\n",
              "    <tr style=\"text-align: right;\">\n",
              "      <th></th>\n",
              "      <th>Date</th>\n",
              "      <th>PX</th>\n",
              "      <th>PXret</th>\n",
              "      <th>PXdiff</th>\n",
              "      <th>PXvol</th>\n",
              "    </tr>\n",
              "  </thead>\n",
              "  <tbody>\n",
              "    <tr>\n",
              "      <th>1</th>\n",
              "      <td>1993-02-19</td>\n",
              "      <td>233.200</td>\n",
              "      <td>0.005</td>\n",
              "      <td>NaN</td>\n",
              "      <td>0.005</td>\n",
              "    </tr>\n",
              "    <tr>\n",
              "      <th>2</th>\n",
              "      <td>1993-02-22</td>\n",
              "      <td>232.300</td>\n",
              "      <td>-0.004</td>\n",
              "      <td>-0.900</td>\n",
              "      <td>0.004</td>\n",
              "    </tr>\n",
              "    <tr>\n",
              "      <th>3</th>\n",
              "      <td>1993-02-23</td>\n",
              "      <td>227.800</td>\n",
              "      <td>-0.019</td>\n",
              "      <td>-4.500</td>\n",
              "      <td>0.019</td>\n",
              "    </tr>\n",
              "    <tr>\n",
              "      <th>4</th>\n",
              "      <td>1993-02-24</td>\n",
              "      <td>227.900</td>\n",
              "      <td>0.000</td>\n",
              "      <td>0.100</td>\n",
              "      <td>0.000</td>\n",
              "    </tr>\n",
              "    <tr>\n",
              "      <th>5</th>\n",
              "      <td>1993-02-25</td>\n",
              "      <td>228.000</td>\n",
              "      <td>0.000</td>\n",
              "      <td>0.100</td>\n",
              "      <td>0.000</td>\n",
              "    </tr>\n",
              "    <tr>\n",
              "      <th>...</th>\n",
              "      <td>...</td>\n",
              "      <td>...</td>\n",
              "      <td>...</td>\n",
              "      <td>...</td>\n",
              "      <td>...</td>\n",
              "    </tr>\n",
              "    <tr>\n",
              "      <th>7551</th>\n",
              "      <td>2022-12-23</td>\n",
              "      <td>823.570</td>\n",
              "      <td>-0.000</td>\n",
              "      <td>-0.220</td>\n",
              "      <td>0.000</td>\n",
              "    </tr>\n",
              "    <tr>\n",
              "      <th>7552</th>\n",
              "      <td>2022-12-27</td>\n",
              "      <td>823.830</td>\n",
              "      <td>0.000</td>\n",
              "      <td>0.260</td>\n",
              "      <td>0.000</td>\n",
              "    </tr>\n",
              "    <tr>\n",
              "      <th>7553</th>\n",
              "      <td>2022-12-28</td>\n",
              "      <td>822.810</td>\n",
              "      <td>-0.001</td>\n",
              "      <td>-1.020</td>\n",
              "      <td>0.001</td>\n",
              "    </tr>\n",
              "    <tr>\n",
              "      <th>7554</th>\n",
              "      <td>2022-12-29</td>\n",
              "      <td>828.870</td>\n",
              "      <td>0.007</td>\n",
              "      <td>6.060</td>\n",
              "      <td>0.007</td>\n",
              "    </tr>\n",
              "    <tr>\n",
              "      <th>7555</th>\n",
              "      <td>2022-12-30</td>\n",
              "      <td>820.210</td>\n",
              "      <td>-0.010</td>\n",
              "      <td>-8.660</td>\n",
              "      <td>0.010</td>\n",
              "    </tr>\n",
              "  </tbody>\n",
              "</table>\n",
              "<p>7549 rows × 5 columns</p>\n",
              "</div>\n",
              "      <button class=\"colab-df-convert\" onclick=\"convertToInteractive('df-4e57c008-14f6-459a-ab57-e2802c97bd8c')\"\n",
              "              title=\"Convert this dataframe to an interactive table.\"\n",
              "              style=\"display:none;\">\n",
              "        \n",
              "  <svg xmlns=\"http://www.w3.org/2000/svg\" height=\"24px\"viewBox=\"0 0 24 24\"\n",
              "       width=\"24px\">\n",
              "    <path d=\"M0 0h24v24H0V0z\" fill=\"none\"/>\n",
              "    <path d=\"M18.56 5.44l.94 2.06.94-2.06 2.06-.94-2.06-.94-.94-2.06-.94 2.06-2.06.94zm-11 1L8.5 8.5l.94-2.06 2.06-.94-2.06-.94L8.5 2.5l-.94 2.06-2.06.94zm10 10l.94 2.06.94-2.06 2.06-.94-2.06-.94-.94-2.06-.94 2.06-2.06.94z\"/><path d=\"M17.41 7.96l-1.37-1.37c-.4-.4-.92-.59-1.43-.59-.52 0-1.04.2-1.43.59L10.3 9.45l-7.72 7.72c-.78.78-.78 2.05 0 2.83L4 21.41c.39.39.9.59 1.41.59.51 0 1.02-.2 1.41-.59l7.78-7.78 2.81-2.81c.8-.78.8-2.07 0-2.86zM5.41 20L4 18.59l7.72-7.72 1.47 1.35L5.41 20z\"/>\n",
              "  </svg>\n",
              "      </button>\n",
              "      \n",
              "  <style>\n",
              "    .colab-df-container {\n",
              "      display:flex;\n",
              "      flex-wrap:wrap;\n",
              "      gap: 12px;\n",
              "    }\n",
              "\n",
              "    .colab-df-convert {\n",
              "      background-color: #E8F0FE;\n",
              "      border: none;\n",
              "      border-radius: 50%;\n",
              "      cursor: pointer;\n",
              "      display: none;\n",
              "      fill: #1967D2;\n",
              "      height: 32px;\n",
              "      padding: 0 0 0 0;\n",
              "      width: 32px;\n",
              "    }\n",
              "\n",
              "    .colab-df-convert:hover {\n",
              "      background-color: #E2EBFA;\n",
              "      box-shadow: 0px 1px 2px rgba(60, 64, 67, 0.3), 0px 1px 3px 1px rgba(60, 64, 67, 0.15);\n",
              "      fill: #174EA6;\n",
              "    }\n",
              "\n",
              "    [theme=dark] .colab-df-convert {\n",
              "      background-color: #3B4455;\n",
              "      fill: #D2E3FC;\n",
              "    }\n",
              "\n",
              "    [theme=dark] .colab-df-convert:hover {\n",
              "      background-color: #434B5C;\n",
              "      box-shadow: 0px 1px 3px 1px rgba(0, 0, 0, 0.15);\n",
              "      filter: drop-shadow(0px 1px 2px rgba(0, 0, 0, 0.3));\n",
              "      fill: #FFFFFF;\n",
              "    }\n",
              "  </style>\n",
              "\n",
              "      <script>\n",
              "        const buttonEl =\n",
              "          document.querySelector('#df-4e57c008-14f6-459a-ab57-e2802c97bd8c button.colab-df-convert');\n",
              "        buttonEl.style.display =\n",
              "          google.colab.kernel.accessAllowed ? 'block' : 'none';\n",
              "\n",
              "        async function convertToInteractive(key) {\n",
              "          const element = document.querySelector('#df-4e57c008-14f6-459a-ab57-e2802c97bd8c');\n",
              "          const dataTable =\n",
              "            await google.colab.kernel.invokeFunction('convertToInteractive',\n",
              "                                                     [key], {});\n",
              "          if (!dataTable) return;\n",
              "\n",
              "          const docLinkHtml = 'Like what you see? Visit the ' +\n",
              "            '<a target=\"_blank\" href=https://colab.research.google.com/notebooks/data_table.ipynb>data table notebook</a>'\n",
              "            + ' to learn more about interactive tables.';\n",
              "          element.innerHTML = '';\n",
              "          dataTable['output_type'] = 'display_data';\n",
              "          await google.colab.output.renderOutput(dataTable, element);\n",
              "          const docLink = document.createElement('div');\n",
              "          docLink.innerHTML = docLinkHtml;\n",
              "          element.appendChild(docLink);\n",
              "        }\n",
              "      </script>\n",
              "    </div>\n",
              "  </div>\n",
              "  "
            ]
          },
          "metadata": {},
          "execution_count": 9
        }
      ]
    },
    {
      "cell_type": "code",
      "source": [
        "plt.figure(figsize=(16,8))\n",
        "plt.title(dic.Index[id] + 'Price')\n",
        "plt.plot(dpxd.PX)\n",
        "plt.xlabel('Date', fontsize=18)\n",
        "plt.ylabel('Price', fontsize=18)"
      ],
      "metadata": {
        "colab": {
          "base_uri": "https://localhost:8080/",
          "height": 575
        },
        "id": "aaP0YBGdOyYf",
        "outputId": "d0000db7-3913-46c6-f042-289e72bf3c1d"
      },
      "execution_count": 17,
      "outputs": [
        {
          "output_type": "execute_result",
          "data": {
            "text/plain": [
              "Text(0, 0.5, 'Price')"
            ]
          },
          "metadata": {},
          "execution_count": 17
        },
        {
          "output_type": "display_data",
          "data": {
            "text/plain": [
              "<Figure size 1152x576 with 1 Axes>"
            ],
            "image/png": "[encoded data removed]"
          },
          "metadata": {}
        }
      ]
    },
    {
      "cell_type": "code",
      "source": [
        "# Create a new df with only close column\n",
        "dprice = dpx['PX']\n",
        "\n",
        "#Convert the data to a numpy array\n",
        "dpr1 = dprice.values\n",
        "\n",
        "#Set train data\n",
        "train_len = len(dpr[:-20]) #train is all but last 20\n",
        "train_len"
      ],
      "metadata": {
        "colab": {
          "base_uri": "https://localhost:8080/"
        },
        "id": "jMMo7A5uPlE-",
        "outputId": "6e552fb5-6740-481f-c7c6-8ed369f16919"
      },
      "execution_count": 33,
      "outputs": [
        {
          "output_type": "execute_result",
          "data": {
            "text/plain": [
              "7529"
            ]
          },
          "metadata": {},
          "execution_count": 33
        }
      ]
    },
    {
      "cell_type": "code",
      "source": [
        "#Solve the error expecting 2d array.\n",
        "dpr = dpr1[:,np.newaxis]"
      ],
      "metadata": {
        "id": "CD9cz6a1S6tA"
      },
      "execution_count": 34,
      "outputs": []
    },
    {
      "cell_type": "code",
      "source": [
        "# Scale the data. All values must be between 0 and 1\n",
        "scaler = MinMaxScaler(feature_range=(0,1))\n",
        "scaled_dpr = scaler.fit_transform(dpr)\n",
        "scaled_dpr"
      ],
      "metadata": {
        "colab": {
          "base_uri": "https://localhost:8080/"
        },
        "id": "AqZWPtR8Rnp_",
        "outputId": "48c84dc5-d72d-47de-e425-58d27a514c7e"
      },
      "execution_count": 35,
      "outputs": [
        {
          "output_type": "execute_result",
          "data": {
            "text/plain": [
              "array([[0.00360685],\n",
              "       [0.00300571],\n",
              "       [0.        ],\n",
              "       ...,\n",
              "       [0.39742845],\n",
              "       [0.40147614],\n",
              "       [0.39569181]])"
            ]
          },
          "metadata": {},
          "execution_count": 35
        }
      ]
    },
    {
      "cell_type": "code",
      "source": [
        "# Create the training dataset from scaled data\n",
        "train_dpr = scaled_dpr[0:train_len, :]\n",
        "# Split between x_train and y_train\n",
        "x_train = []\n",
        "y_train = []\n",
        "\n",
        "#Use last 60 values to predict the coming ones\n",
        "for i in range (60, len(train_dpr)):\n",
        "  x_train.append(train_dpr[i-60:i,  0])\n",
        "  y_train.append(train_dpr[i, 0])\n",
        "  if i <= 61:\n",
        "    print(x_train)\n",
        "    print(y_train)\n",
        "    print()"
      ],
      "metadata": {
        "colab": {
          "base_uri": "https://localhost:8080/"
        },
        "id": "l5qrA3eQUU1_",
        "outputId": "a0d9105b-0f9b-4fd1-f120-0d4295a0296a"
      },
      "execution_count": 38,
      "outputs": [
        {
          "output_type": "stream",
          "name": "stdout",
          "text": [
            "[array([3.60685302e-03, 3.00571085e-03, 0.00000000e+00, 6.67935745e-05,\n",
            "       1.33587149e-04, 3.33967872e-03, 5.87783455e-03, 5.20989881e-03,\n",
            "       4.80913736e-03, 5.34348596e-03, 7.14691247e-03, 8.48278396e-03,\n",
            "       8.88354540e-03, 8.34919681e-03, 8.41599038e-03, 6.67935745e-03,\n",
            "       5.87783455e-03, 5.14310523e-03, 4.77574057e-03, 5.74424740e-03,\n",
            "       3.13929800e-03, 4.34158234e-03, 4.40837591e-03, 5.20989881e-03,\n",
            "       7.21370604e-03, 7.94843536e-03, 9.15071970e-03, 8.34919681e-03,\n",
            "       7.88164179e-03, 6.54577030e-03, 6.27859600e-03, 5.34348596e-03,\n",
            "       5.00951808e-03, 7.48088034e-03, 8.14881608e-03, 7.48088034e-03,\n",
            "       8.01522893e-03, 1.08873526e-02, 1.05533848e-02, 9.75186187e-03,\n",
            "       1.19560498e-02, 1.09541462e-02, 1.22833383e-02, 1.07871623e-02,\n",
            "       1.12814347e-02, 1.01392646e-02, 1.10676953e-02, 1.11010921e-02,\n",
            "       1.04999499e-02, 1.00858297e-02, 9.99899810e-03, 9.01045319e-03,\n",
            "       8.40931102e-03, 9.62495408e-03, 9.38449721e-03, 1.60371372e-02,\n",
            "       1.74264436e-02, 1.68052633e-02, 1.94302508e-02, 1.82947600e-02])]\n",
            "[0.018441705907891653]\n",
            "\n",
            "[array([3.60685302e-03, 3.00571085e-03, 0.00000000e+00, 6.67935745e-05,\n",
            "       1.33587149e-04, 3.33967872e-03, 5.87783455e-03, 5.20989881e-03,\n",
            "       4.80913736e-03, 5.34348596e-03, 7.14691247e-03, 8.48278396e-03,\n",
            "       8.88354540e-03, 8.34919681e-03, 8.41599038e-03, 6.67935745e-03,\n",
            "       5.87783455e-03, 5.14310523e-03, 4.77574057e-03, 5.74424740e-03,\n",
            "       3.13929800e-03, 4.34158234e-03, 4.40837591e-03, 5.20989881e-03,\n",
            "       7.21370604e-03, 7.94843536e-03, 9.15071970e-03, 8.34919681e-03,\n",
            "       7.88164179e-03, 6.54577030e-03, 6.27859600e-03, 5.34348596e-03,\n",
            "       5.00951808e-03, 7.48088034e-03, 8.14881608e-03, 7.48088034e-03,\n",
            "       8.01522893e-03, 1.08873526e-02, 1.05533848e-02, 9.75186187e-03,\n",
            "       1.19560498e-02, 1.09541462e-02, 1.22833383e-02, 1.07871623e-02,\n",
            "       1.12814347e-02, 1.01392646e-02, 1.10676953e-02, 1.11010921e-02,\n",
            "       1.04999499e-02, 1.00858297e-02, 9.99899810e-03, 9.01045319e-03,\n",
            "       8.40931102e-03, 9.62495408e-03, 9.38449721e-03, 1.60371372e-02,\n",
            "       1.74264436e-02, 1.68052633e-02, 1.94302508e-02, 1.82947600e-02]), array([3.00571085e-03, 0.00000000e+00, 6.67935745e-05, 1.33587149e-04,\n",
            "       3.33967872e-03, 5.87783455e-03, 5.20989881e-03, 4.80913736e-03,\n",
            "       5.34348596e-03, 7.14691247e-03, 8.48278396e-03, 8.88354540e-03,\n",
            "       8.34919681e-03, 8.41599038e-03, 6.67935745e-03, 5.87783455e-03,\n",
            "       5.14310523e-03, 4.77574057e-03, 5.74424740e-03, 3.13929800e-03,\n",
            "       4.34158234e-03, 4.40837591e-03, 5.20989881e-03, 7.21370604e-03,\n",
            "       7.94843536e-03, 9.15071970e-03, 8.34919681e-03, 7.88164179e-03,\n",
            "       6.54577030e-03, 6.27859600e-03, 5.34348596e-03, 5.00951808e-03,\n",
            "       7.48088034e-03, 8.14881608e-03, 7.48088034e-03, 8.01522893e-03,\n",
            "       1.08873526e-02, 1.05533848e-02, 9.75186187e-03, 1.19560498e-02,\n",
            "       1.09541462e-02, 1.22833383e-02, 1.07871623e-02, 1.12814347e-02,\n",
            "       1.01392646e-02, 1.10676953e-02, 1.11010921e-02, 1.04999499e-02,\n",
            "       1.00858297e-02, 9.99899810e-03, 9.01045319e-03, 8.40931102e-03,\n",
            "       9.62495408e-03, 9.38449721e-03, 1.60371372e-02, 1.74264436e-02,\n",
            "       1.68052633e-02, 1.94302508e-02, 1.82947600e-02, 1.84417059e-02])]\n",
            "[0.018441705907891653, 0.019056206792906483]\n",
            "\n"
          ]
        }
      ]
    },
    {
      "cell_type": "code",
      "source": [
        "# Convert x_train and y_train to numpy arrays so it can be used to LSTM model\n",
        "x_train, y_train = np.array(x_train), np.array(y_train)"
      ],
      "metadata": {
        "id": "QxNJA8O1b0vA"
      },
      "execution_count": 39,
      "outputs": []
    },
    {
      "cell_type": "code",
      "source": [
        "#Reshape the data because it expects to be 3-d and now it is 2-d\n",
        "x_train = np.reshape(x_train, (x_train.shape[0], x_train.shape[1], 1))\n",
        "x_train.shape\n"
      ],
      "metadata": {
        "colab": {
          "base_uri": "https://localhost:8080/"
        },
        "id": "eUGV0S3PcyAS",
        "outputId": "2e4bba9e-72fa-4176-a774-bc80049df61c"
      },
      "execution_count": 43,
      "outputs": [
        {
          "output_type": "execute_result",
          "data": {
            "text/plain": [
              "(7469, 60, 1)"
            ]
          },
          "metadata": {},
          "execution_count": 43
        }
      ]
    },
    {
      "cell_type": "code",
      "source": [
        "#Build LSTM model\n",
        "model = Sequential()\n",
        "model.add(LSTM(50, return_sequences=True, input_shape = (x_train.shape[1],1)))\n",
        "model.add(LSTM(50, return_sequences=False))\n",
        "model.add(Dense(25))\n",
        "model.add(Dense(1))"
      ],
      "metadata": {
        "id": "OfjCb-RUc6So"
      },
      "execution_count": 44,
      "outputs": []
    },
    {
      "cell_type": "code",
      "source": [
        "#Compile the model\n",
        "model.compile(optimizer='adam', loss='mean_squared_error')"
      ],
      "metadata": {
        "id": "bUF0X33Cd6F1"
      },
      "execution_count": 46,
      "outputs": []
    },
    {
      "cell_type": "code",
      "source": [
        "#Train the model\n",
        "model.fit(x_train, y_train, batch_size=1, epochs=1) #epochs: number of times data goes back and forth in the NN. batch: how meany samples at time to train"
      ],
      "metadata": {
        "colab": {
          "base_uri": "https://localhost:8080/"
        },
        "id": "_LZIajLUeGU3",
        "outputId": "195683af-e550-41c7-8924-5e96ea2ac08d"
      },
      "execution_count": 47,
      "outputs": [
        {
          "output_type": "stream",
          "name": "stdout",
          "text": [
            "7469/7469 [==============================] - 214s 28ms/step - loss: 5.9618e-04\n"
          ]
        },
        {
          "output_type": "execute_result",
          "data": {
            "text/plain": [
              "<keras.callbacks.History at 0x7fe17e72fc40>"
            ]
          },
          "metadata": {},
          "execution_count": 47
        }
      ]
    },
    {
      "cell_type": "code",
      "source": [
        "# Create the testing data set\n",
        "#Create a new array containing scaled values \n",
        "test_dpr = scaled_dpr[len(train_dpr):]\n",
        "\n",
        "#Create the data sets x_test and y_test\n",
        "x_test=[]\n",
        "y_test=dpr[train_len:, :]\n",
        "for i in range (60, len(test_dpr)):\n",
        "  x_test.append(test_dpr[i-60:i, 0])"
      ],
      "metadata": {
        "id": "a7KCb-D8fSTS"
      },
      "execution_count": 48,
      "outputs": []
    },
    {
      "cell_type": "code",
      "source": [
        "# Convert the data to a numpy array\n",
        "x_test = np.array(x_test)"
      ],
      "metadata": {
        "id": "NQlveeOagvhS"
      },
      "execution_count": 49,
      "outputs": []
    },
    {
      "cell_type": "code",
      "source": [
        "#Solve the error expecting 2d array.\n",
        "x_test = x_test[:,np.newaxis]"
      ],
      "metadata": {
        "id": "Q7H-hbvIhova"
      },
      "execution_count": 54,
      "outputs": []
    },
    {
      "cell_type": "code",
      "source": [
        "#Reshape the data\n",
        "x_test = np.reshape(x_test, (x_test.shape[0], x_test.shape[1], 1))"
      ],
      "metadata": {
        "id": "DE0vL492g7nR"
      },
      "execution_count": 55,
      "outputs": []
    },
    {
      "cell_type": "code",
      "source": [
        "# Get the models predicted price values\n",
        "predictions = model.predict(x_test)\n",
        "#predictions = scaler.inverse_transform(predictions)"
      ],
      "metadata": {
        "colab": {
          "base_uri": "https://localhost:8080/",
          "height": 363
        },
        "id": "X_UFYcmFhz1U",
        "outputId": "27ae15c2-df04-473a-9a9d-4c669629c878"
      },
      "execution_count": 57,
      "outputs": [
        {
          "output_type": "error",
          "ename": "ValueError",
          "evalue": "ignored",
          "traceback": [
            "\u001b[0;31m---------------------------------------------------------------------------\u001b[0m",
            "\u001b[0;31mValueError\u001b[0m                                Traceback (most recent call last)",
            "\u001b[0;32m<ipython-input-57-1c67d2230e2e>\u001b[0m in \u001b[0;36m<module>\u001b[0;34m\u001b[0m\n\u001b[1;32m      1\u001b[0m \u001b[0;31m# Get the models predicted price values\u001b[0m\u001b[0;34m\u001b[0m\u001b[0;34m\u001b[0m\u001b[0;34m\u001b[0m\u001b[0m\n\u001b[0;32m----> 2\u001b[0;31m \u001b[0mpredictions\u001b[0m \u001b[0;34m=\u001b[0m \u001b[0mmodel\u001b[0m\u001b[0;34m.\u001b[0m\u001b[0mpredict\u001b[0m\u001b[0;34m(\u001b[0m\u001b[0mx_test\u001b[0m\u001b[0;34m)\u001b[0m\u001b[0;34m\u001b[0m\u001b[0;34m\u001b[0m\u001b[0m\n\u001b[0m\u001b[1;32m      3\u001b[0m \u001b[0;31m#predictions = scaler.inverse_transform(predictions)\u001b[0m\u001b[0;34m\u001b[0m\u001b[0;34m\u001b[0m\u001b[0;34m\u001b[0m\u001b[0m\n",
            "\u001b[0;32m/usr/local/lib/python3.8/dist-packages/keras/utils/traceback_utils.py\u001b[0m in \u001b[0;36merror_handler\u001b[0;34m(*args, **kwargs)\u001b[0m\n\u001b[1;32m     65\u001b[0m     \u001b[0;32mexcept\u001b[0m \u001b[0mException\u001b[0m \u001b[0;32mas\u001b[0m \u001b[0me\u001b[0m\u001b[0;34m:\u001b[0m  \u001b[0;31m# pylint: disable=broad-except\u001b[0m\u001b[0;34m\u001b[0m\u001b[0;34m\u001b[0m\u001b[0m\n\u001b[1;32m     66\u001b[0m       \u001b[0mfiltered_tb\u001b[0m \u001b[0;34m=\u001b[0m \u001b[0m_process_traceback_frames\u001b[0m\u001b[0;34m(\u001b[0m\u001b[0me\u001b[0m\u001b[0;34m.\u001b[0m\u001b[0m__traceback__\u001b[0m\u001b[0;34m)\u001b[0m\u001b[0;34m\u001b[0m\u001b[0;34m\u001b[0m\u001b[0m\n\u001b[0;32m---> 67\u001b[0;31m       \u001b[0;32mraise\u001b[0m \u001b[0me\u001b[0m\u001b[0;34m.\u001b[0m\u001b[0mwith_traceback\u001b[0m\u001b[0;34m(\u001b[0m\u001b[0mfiltered_tb\u001b[0m\u001b[0;34m)\u001b[0m \u001b[0;32mfrom\u001b[0m \u001b[0;32mNone\u001b[0m\u001b[0;34m\u001b[0m\u001b[0;34m\u001b[0m\u001b[0m\n\u001b[0m\u001b[1;32m     68\u001b[0m     \u001b[0;32mfinally\u001b[0m\u001b[0;34m:\u001b[0m\u001b[0;34m\u001b[0m\u001b[0;34m\u001b[0m\u001b[0m\n\u001b[1;32m     69\u001b[0m       \u001b[0;32mdel\u001b[0m \u001b[0mfiltered_tb\u001b[0m\u001b[0;34m\u001b[0m\u001b[0;34m\u001b[0m\u001b[0m\n",
            "\u001b[0;32m/usr/local/lib/python3.8/dist-packages/keras/engine/training.py\u001b[0m in \u001b[0;36mpredict\u001b[0;34m(self, x, batch_size, verbose, steps, callbacks, max_queue_size, workers, use_multiprocessing)\u001b[0m\n\u001b[1;32m   2046\u001b[0m             \u001b[0mcallbacks\u001b[0m\u001b[0;34m.\u001b[0m\u001b[0mon_predict_batch_end\u001b[0m\u001b[0;34m(\u001b[0m\u001b[0mend_step\u001b[0m\u001b[0;34m,\u001b[0m \u001b[0;34m{\u001b[0m\u001b[0;34m'outputs'\u001b[0m\u001b[0;34m:\u001b[0m \u001b[0mbatch_outputs\u001b[0m\u001b[0;34m}\u001b[0m\u001b[0;34m)\u001b[0m\u001b[0;34m\u001b[0m\u001b[0;34m\u001b[0m\u001b[0m\n\u001b[1;32m   2047\u001b[0m       \u001b[0;32mif\u001b[0m \u001b[0mbatch_outputs\u001b[0m \u001b[0;32mis\u001b[0m \u001b[0;32mNone\u001b[0m\u001b[0;34m:\u001b[0m\u001b[0;34m\u001b[0m\u001b[0;34m\u001b[0m\u001b[0m\n\u001b[0;32m-> 2048\u001b[0;31m         raise ValueError('Unexpected result of `predict_function` '\n\u001b[0m\u001b[1;32m   2049\u001b[0m                          \u001b[0;34m'(Empty batch_outputs). Please use '\u001b[0m\u001b[0;34m\u001b[0m\u001b[0;34m\u001b[0m\u001b[0m\n\u001b[1;32m   2050\u001b[0m                          \u001b[0;34m'`Model.compile(..., run_eagerly=True)`, or '\u001b[0m\u001b[0;34m\u001b[0m\u001b[0;34m\u001b[0m\u001b[0m\n",
            "\u001b[0;31mValueError\u001b[0m: Unexpected result of `predict_function` (Empty batch_outputs). Please use `Model.compile(..., run_eagerly=True)`, or `tf.config.run_functions_eagerly(True)` for more information of where went wrong, or file a issue/bug to `tf.keras`."
          ]
        }
      ]
    }
  ]
}